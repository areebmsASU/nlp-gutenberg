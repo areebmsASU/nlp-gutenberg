{
 "cells": [
  {
   "cell_type": "code",
   "execution_count": 5,
   "id": "1586a5a8-b04d-4a14-9e18-b2ac5a4caeba",
   "metadata": {},
   "outputs": [],
   "source": [
    "import pandas as pd\n",
    "import json"
   ]
  },
  {
   "cell_type": "code",
   "execution_count": 6,
   "id": "ede2c061-2b7c-4bbb-b1ca-1e17fd9ab7dc",
   "metadata": {},
   "outputs": [],
   "source": [
    "with open(\"data.json\") as f:\n",
    "    data = json.load(f)\n"
   ]
  },
  {
   "cell_type": "code",
   "execution_count": 8,
   "id": "bcf8aa9c-40b3-441e-8aa2-edc3cb543c0a",
   "metadata": {},
   "outputs": [],
   "source": [
    "data = pd.DataFrame(data)"
   ]
  },
  {
   "cell_type": "code",
   "execution_count": 10,
   "id": "d70a9eb9-36b0-4c66-aeed-ffef46c47b09",
   "metadata": {},
   "outputs": [
    {
     "data": {
      "text/plain": [
       "Index(['author', 'author_link', 'title', 'note', 'credits', 'language',\n",
       "       'loc_class', 'loc_class_link', 'subject', 'subject_link', 'category',\n",
       "       'ebook_no', 'release_date', 'copyright_status', 'downloads', 'raw_text',\n",
       "       'translator', 'translator_link', 'alternate_title', 'editor',\n",
       "       'editor_link', 'uniform_title', 'credits_link', 'loc_no', 'loc_no_link',\n",
       "       'contents', 'contributor', 'contributor_link', 'original_publication',\n",
       "       'language_link', 'commentator', 'commentator_link'],\n",
       "      dtype='object')"
      ]
     },
     "execution_count": 10,
     "metadata": {},
     "output_type": "execute_result"
    }
   ],
   "source": [
    "data.columns"
   ]
  },
  {
   "cell_type": "code",
   "execution_count": 28,
   "id": "21b39ee6-983c-4245-aa80-7eeadb2d7108",
   "metadata": {},
   "outputs": [],
   "source": [
    "data = data[['author', 'title', 'language',\n",
    "       'loc_class', 'subject',\n",
    "       'ebook_no', \"raw_text\" ]]"
   ]
  },
  {
   "cell_type": "code",
   "execution_count": 37,
   "id": "687d8743-13e4-468b-b5bf-f3e83fc60536",
   "metadata": {},
   "outputs": [],
   "source": [
    "data = data[~data[\"author\"].isna()]"
   ]
  },
  {
   "cell_type": "code",
   "execution_count": 56,
   "id": "50b18ac6-b5c5-4ed5-9937-b9fa9ddbd235",
   "metadata": {},
   "outputs": [
    {
     "data": {
      "text/plain": [
       "ebook_no\n",
       "1    131\n",
       "Name: count, dtype: int64"
      ]
     },
     "execution_count": 56,
     "metadata": {},
     "output_type": "execute_result"
    }
   ],
   "source": [
    "data[\"ebook_no\"].map(len).value_counts()"
   ]
  },
  {
   "cell_type": "code",
   "execution_count": 44,
   "id": "d9e1e461-b331-45f8-a9b1-b26ae04f876a",
   "metadata": {},
   "outputs": [
    {
     "data": {
      "text/html": [
       "<div>\n",
       "<style scoped>\n",
       "    .dataframe tbody tr th:only-of-type {\n",
       "        vertical-align: middle;\n",
       "    }\n",
       "\n",
       "    .dataframe tbody tr th {\n",
       "        vertical-align: top;\n",
       "    }\n",
       "\n",
       "    .dataframe thead th {\n",
       "        text-align: right;\n",
       "    }\n",
       "</style>\n",
       "<table border=\"1\" class=\"dataframe\">\n",
       "  <thead>\n",
       "    <tr style=\"text-align: right;\">\n",
       "      <th></th>\n",
       "      <th>author</th>\n",
       "      <th>title</th>\n",
       "      <th>language</th>\n",
       "      <th>loc_class</th>\n",
       "      <th>subject</th>\n",
       "      <th>ebook_no</th>\n",
       "      <th>raw_text</th>\n",
       "    </tr>\n",
       "  </thead>\n",
       "  <tbody>\n",
       "    <tr>\n",
       "      <th>5</th>\n",
       "      <td>[Garnier, M. (Germain), 1754-1821, Smith, Adam...</td>\n",
       "      <td>[An Inquiry Into the Nature and Causes of the ...</td>\n",
       "      <td>[English]</td>\n",
       "      <td>[HB: Social sciences: Economic theory, Demogra...</td>\n",
       "      <td>[Economics]</td>\n",
       "      <td>[38194]</td>\n",
       "      <td>[The Project Gutenberg eBook of An Inquiry Int...</td>\n",
       "    </tr>\n",
       "    <tr>\n",
       "      <th>15</th>\n",
       "      <td>[Deville, Gabriel Pierre, 1854-1940, Marx, Kar...</td>\n",
       "      <td>[El capital: Resumido y acompañado de un estud...</td>\n",
       "      <td>[Spanish]</td>\n",
       "      <td>[HB: Social sciences: Economic theory, Demogra...</td>\n",
       "      <td>[Socialism, Capital, Economics, Wages]</td>\n",
       "      <td>[67939]</td>\n",
       "      <td>[The Project Gutenberg eBook of El capital: Re...</td>\n",
       "    </tr>\n",
       "    <tr>\n",
       "      <th>44</th>\n",
       "      <td>[Montanari, Geminiano, 1633-1687, Scaruffi, Ga...</td>\n",
       "      <td>[Economisti del cinque e seicento]</td>\n",
       "      <td>[Italian]</td>\n",
       "      <td>[HB: Social sciences: Economic theory, Demogra...</td>\n",
       "      <td>[Money, Economics]</td>\n",
       "      <td>[22502]</td>\n",
       "      <td>[The Project Gutenberg eBook of Economisti del...</td>\n",
       "    </tr>\n",
       "    <tr>\n",
       "      <th>64</th>\n",
       "      <td>[Montanari, Geminiano, 1633-1687, Scaruffi, Ga...</td>\n",
       "      <td>[Economisti del cinque e seicento]</td>\n",
       "      <td>[Italian]</td>\n",
       "      <td>[HB: Social sciences: Economic theory, Demogra...</td>\n",
       "      <td>[Money, Economics]</td>\n",
       "      <td>[22502]</td>\n",
       "      <td>[The Project Gutenberg eBook of Economisti del...</td>\n",
       "    </tr>\n",
       "    <tr>\n",
       "      <th>75</th>\n",
       "      <td>[Deville, Gabriel Pierre, 1854-1940, Marx, Kar...</td>\n",
       "      <td>[El capital: Resumido y acompañado de un estud...</td>\n",
       "      <td>[Spanish]</td>\n",
       "      <td>[HB: Social sciences: Economic theory, Demogra...</td>\n",
       "      <td>[Socialism, Capital, Economics, Wages]</td>\n",
       "      <td>[67939]</td>\n",
       "      <td>[The Project Gutenberg eBook of El capital: Re...</td>\n",
       "    </tr>\n",
       "    <tr>\n",
       "      <th>78</th>\n",
       "      <td>[Deville, Gabriel Pierre, 1854-1940, Marx, Kar...</td>\n",
       "      <td>[El capital: Resumido y acompañado de un estud...</td>\n",
       "      <td>[Spanish]</td>\n",
       "      <td>[HB: Social sciences: Economic theory, Demogra...</td>\n",
       "      <td>[Socialism, Capital, Economics, Wages]</td>\n",
       "      <td>[67939]</td>\n",
       "      <td>[The Project Gutenberg eBook of El capital: Re...</td>\n",
       "    </tr>\n",
       "    <tr>\n",
       "      <th>98</th>\n",
       "      <td>[Montanari, Geminiano, 1633-1687, Scaruffi, Ga...</td>\n",
       "      <td>[Economisti del cinque e seicento]</td>\n",
       "      <td>[Italian]</td>\n",
       "      <td>[HB: Social sciences: Economic theory, Demogra...</td>\n",
       "      <td>[Money, Economics]</td>\n",
       "      <td>[22502]</td>\n",
       "      <td>[The Project Gutenberg eBook of Economisti del...</td>\n",
       "    </tr>\n",
       "    <tr>\n",
       "      <th>107</th>\n",
       "      <td>[Garnier, M. (Germain), 1754-1821, Smith, Adam...</td>\n",
       "      <td>[An Inquiry Into the Nature and Causes of the ...</td>\n",
       "      <td>[English]</td>\n",
       "      <td>[HB: Social sciences: Economic theory, Demogra...</td>\n",
       "      <td>[Economics]</td>\n",
       "      <td>[38194]</td>\n",
       "      <td>[The Project Gutenberg eBook of An Inquiry Int...</td>\n",
       "    </tr>\n",
       "    <tr>\n",
       "      <th>112</th>\n",
       "      <td>[Montanari, Geminiano, 1633-1687, Scaruffi, Ga...</td>\n",
       "      <td>[Economisti del cinque e seicento]</td>\n",
       "      <td>[Italian]</td>\n",
       "      <td>[HB: Social sciences: Economic theory, Demogra...</td>\n",
       "      <td>[Money, Economics]</td>\n",
       "      <td>[22502]</td>\n",
       "      <td>[The Project Gutenberg eBook of Economisti del...</td>\n",
       "    </tr>\n",
       "    <tr>\n",
       "      <th>114</th>\n",
       "      <td>[Garnier, M. (Germain), 1754-1821, Smith, Adam...</td>\n",
       "      <td>[An Inquiry Into the Nature and Causes of the ...</td>\n",
       "      <td>[English]</td>\n",
       "      <td>[HB: Social sciences: Economic theory, Demogra...</td>\n",
       "      <td>[Economics]</td>\n",
       "      <td>[38194]</td>\n",
       "      <td>[The Project Gutenberg eBook of An Inquiry Int...</td>\n",
       "    </tr>\n",
       "    <tr>\n",
       "      <th>132</th>\n",
       "      <td>[Montanari, Geminiano, 1633-1687, Scaruffi, Ga...</td>\n",
       "      <td>[Economisti del cinque e seicento]</td>\n",
       "      <td>[Italian]</td>\n",
       "      <td>[HB: Social sciences: Economic theory, Demogra...</td>\n",
       "      <td>[Money, Economics]</td>\n",
       "      <td>[22502]</td>\n",
       "      <td>[The Project Gutenberg eBook of Economisti del...</td>\n",
       "    </tr>\n",
       "  </tbody>\n",
       "</table>\n",
       "</div>"
      ],
      "text/plain": [
       "                                                author  \\\n",
       "5    [Garnier, M. (Germain), 1754-1821, Smith, Adam...   \n",
       "15   [Deville, Gabriel Pierre, 1854-1940, Marx, Kar...   \n",
       "44   [Montanari, Geminiano, 1633-1687, Scaruffi, Ga...   \n",
       "64   [Montanari, Geminiano, 1633-1687, Scaruffi, Ga...   \n",
       "75   [Deville, Gabriel Pierre, 1854-1940, Marx, Kar...   \n",
       "78   [Deville, Gabriel Pierre, 1854-1940, Marx, Kar...   \n",
       "98   [Montanari, Geminiano, 1633-1687, Scaruffi, Ga...   \n",
       "107  [Garnier, M. (Germain), 1754-1821, Smith, Adam...   \n",
       "112  [Montanari, Geminiano, 1633-1687, Scaruffi, Ga...   \n",
       "114  [Garnier, M. (Germain), 1754-1821, Smith, Adam...   \n",
       "132  [Montanari, Geminiano, 1633-1687, Scaruffi, Ga...   \n",
       "\n",
       "                                                 title   language  \\\n",
       "5    [An Inquiry Into the Nature and Causes of the ...  [English]   \n",
       "15   [El capital: Resumido y acompañado de un estud...  [Spanish]   \n",
       "44                  [Economisti del cinque e seicento]  [Italian]   \n",
       "64                  [Economisti del cinque e seicento]  [Italian]   \n",
       "75   [El capital: Resumido y acompañado de un estud...  [Spanish]   \n",
       "78   [El capital: Resumido y acompañado de un estud...  [Spanish]   \n",
       "98                  [Economisti del cinque e seicento]  [Italian]   \n",
       "107  [An Inquiry Into the Nature and Causes of the ...  [English]   \n",
       "112                 [Economisti del cinque e seicento]  [Italian]   \n",
       "114  [An Inquiry Into the Nature and Causes of the ...  [English]   \n",
       "132                 [Economisti del cinque e seicento]  [Italian]   \n",
       "\n",
       "                                             loc_class  \\\n",
       "5    [HB: Social sciences: Economic theory, Demogra...   \n",
       "15   [HB: Social sciences: Economic theory, Demogra...   \n",
       "44   [HB: Social sciences: Economic theory, Demogra...   \n",
       "64   [HB: Social sciences: Economic theory, Demogra...   \n",
       "75   [HB: Social sciences: Economic theory, Demogra...   \n",
       "78   [HB: Social sciences: Economic theory, Demogra...   \n",
       "98   [HB: Social sciences: Economic theory, Demogra...   \n",
       "107  [HB: Social sciences: Economic theory, Demogra...   \n",
       "112  [HB: Social sciences: Economic theory, Demogra...   \n",
       "114  [HB: Social sciences: Economic theory, Demogra...   \n",
       "132  [HB: Social sciences: Economic theory, Demogra...   \n",
       "\n",
       "                                    subject ebook_no  \\\n",
       "5                               [Economics]  [38194]   \n",
       "15   [Socialism, Capital, Economics, Wages]  [67939]   \n",
       "44                       [Money, Economics]  [22502]   \n",
       "64                       [Money, Economics]  [22502]   \n",
       "75   [Socialism, Capital, Economics, Wages]  [67939]   \n",
       "78   [Socialism, Capital, Economics, Wages]  [67939]   \n",
       "98                       [Money, Economics]  [22502]   \n",
       "107                             [Economics]  [38194]   \n",
       "112                      [Money, Economics]  [22502]   \n",
       "114                             [Economics]  [38194]   \n",
       "132                      [Money, Economics]  [22502]   \n",
       "\n",
       "                                              raw_text  \n",
       "5    [The Project Gutenberg eBook of An Inquiry Int...  \n",
       "15   [The Project Gutenberg eBook of El capital: Re...  \n",
       "44   [The Project Gutenberg eBook of Economisti del...  \n",
       "64   [The Project Gutenberg eBook of Economisti del...  \n",
       "75   [The Project Gutenberg eBook of El capital: Re...  \n",
       "78   [The Project Gutenberg eBook of El capital: Re...  \n",
       "98   [The Project Gutenberg eBook of Economisti del...  \n",
       "107  [The Project Gutenberg eBook of An Inquiry Int...  \n",
       "112  [The Project Gutenberg eBook of Economisti del...  \n",
       "114  [The Project Gutenberg eBook of An Inquiry Int...  \n",
       "132  [The Project Gutenberg eBook of Economisti del...  "
      ]
     },
     "execution_count": 44,
     "metadata": {},
     "output_type": "execute_result"
    }
   ],
   "source": [
    "data[data[\"author\"].map(len) > 1]"
   ]
  },
  {
   "cell_type": "code",
   "execution_count": 67,
   "id": "38eaf250-7cc9-4478-9b4f-fae23c395bea",
   "metadata": {},
   "outputs": [
    {
     "data": {
      "text/plain": [
       "[['Garnier, M. (Germain), 1754-1821', 'Smith, Adam, 1723-1790'],\n",
       " ['Garnier, M. (Germain), 1754-1821', 'Smith, Adam, 1723-1790'],\n",
       " ['Garnier, M. (Germain), 1754-1821', 'Smith, Adam, 1723-1790']]"
      ]
     },
     "execution_count": 67,
     "metadata": {},
     "output_type": "execute_result"
    }
   ],
   "source": [
    "list(data[data[\"author\"].map(len) > 1][\"author\"])"
   ]
  },
  {
   "cell_type": "code",
   "execution_count": 72,
   "id": "a15e06b9-5c63-448a-99cf-a39e1a6179ed",
   "metadata": {},
   "outputs": [
    {
     "name": "stderr",
     "output_type": "stream",
     "text": [
      "/tmp/ipykernel_64177/264157764.py:1: SettingWithCopyWarning: \n",
      "A value is trying to be set on a copy of a slice from a DataFrame.\n",
      "Try using .loc[row_indexer,col_indexer] = value instead\n",
      "\n",
      "See the caveats in the documentation: https://pandas.pydata.org/pandas-docs/stable/user_guide/indexing.html#returning-a-view-versus-a-copy\n",
      "  data[\"author\"] = data[\"author\"].map(lambda x : x[0])\n"
     ]
    }
   ],
   "source": [
    "data[\"author\"] = data[\"author\"].map(lambda x : x[0])"
   ]
  },
  {
   "cell_type": "code",
   "execution_count": 77,
   "id": "edd2dd4f-ab36-4328-a636-054e71b1e36a",
   "metadata": {},
   "outputs": [
    {
     "data": {
      "text/plain": [
       "Index(['author', 'title', 'language', 'loc_class', 'subject', 'ebook_no',\n",
       "       'raw_text'],\n",
       "      dtype='object')"
      ]
     },
     "execution_count": 77,
     "metadata": {},
     "output_type": "execute_result"
    }
   ],
   "source": [
    "data.columns"
   ]
  },
  {
   "cell_type": "code",
   "execution_count": 65,
   "id": "ff5a9e42-a759-4d71-a3ef-b3606b40fdd7",
   "metadata": {},
   "outputs": [],
   "source": [
    "data = data[data[\"language\"] == \"English\"]"
   ]
  },
  {
   "cell_type": "code",
   "execution_count": 70,
   "id": "14323229-95ee-4adf-ade0-b3d137f3a9b6",
   "metadata": {},
   "outputs": [],
   "source": [
    "data = data[data[\"author\"].map(len) == 1]"
   ]
  },
  {
   "cell_type": "code",
   "execution_count": 76,
   "id": "ee259218-55ff-47bb-89ad-960fcfd6f8fb",
   "metadata": {},
   "outputs": [
    {
     "data": {
      "text/plain": [
       "[['HB: Social sciences: Economic theory, Demography'],\n",
       " ['JC: Political science: Political theory'],\n",
       " ['HB: Social sciences: Economic theory, Demography'],\n",
       " ['HB: Social sciences: Economic theory, Demography'],\n",
       " ['HB: Social sciences: Economic theory, Demography'],\n",
       " ['HB: Social sciences: Economic theory, Demography'],\n",
       " ['HB: Social sciences: Economic theory, Demography'],\n",
       " ['JC: Political science: Political theory'],\n",
       " ['HB: Social sciences: Economic theory, Demography',\n",
       "  'PR: Language and Literatures: English literature'],\n",
       " ['HB: Social sciences: Economic theory, Demography'],\n",
       " ['PR: Language and Literatures: English literature'],\n",
       " ['HN: Social sciences: Social history and conditions, Social problems'],\n",
       " ['HB: Social sciences: Economic theory, Demography'],\n",
       " ['HB: Social sciences: Economic theory, Demography'],\n",
       " ['HD: Social sciences: Economic history and conditions, Production'],\n",
       " ['HB: Social sciences: Economic theory, Demography'],\n",
       " ['HB: Social sciences: Economic theory, Demography', 'J: Political science'],\n",
       " ['HB: Social sciences: Economic theory, Demography'],\n",
       " ['HB: Social sciences: Economic theory, Demography'],\n",
       " ['HB: Social sciences: Economic theory, Demography'],\n",
       " ['HB: Social sciences: Economic theory, Demography'],\n",
       " ['HB: Social sciences: Economic theory, Demography'],\n",
       " ['HB: Social sciences: Economic theory, Demography'],\n",
       " ['HB: Social sciences: Economic theory, Demography'],\n",
       " ['HB: Social sciences: Economic theory, Demography'],\n",
       " ['HN: Social sciences: Social history and conditions, Social problems'],\n",
       " ['HC: Social sciences: Economic history and conditions, Special topics'],\n",
       " ['HB: Social sciences: Economic theory, Demography'],\n",
       " ['HB: Social sciences: Economic theory, Demography'],\n",
       " ['HX: Social sciences: Socialism, Communism, Anarchism'],\n",
       " ['HB: Social sciences: Economic theory, Demography'],\n",
       " ['HB: Social sciences: Economic theory, Demography'],\n",
       " ['HD: Social sciences: Economic history and conditions, Production'],\n",
       " ['HB: Social sciences: Economic theory, Demography'],\n",
       " ['HB: Social sciences: Economic theory, Demography'],\n",
       " ['H: Social sciences'],\n",
       " ['HB: Social sciences: Economic theory, Demography'],\n",
       " ['B: Philosophy, Psychology, Religion'],\n",
       " ['HB: Social sciences: Economic theory, Demography'],\n",
       " ['HB: Social sciences: Economic theory, Demography'],\n",
       " ['HB: Social sciences: Economic theory, Demography'],\n",
       " ['HB: Social sciences: Economic theory, Demography'],\n",
       " ['HD: Social sciences: Economic history and conditions, Production'],\n",
       " ['JC: Political science: Political theory'],\n",
       " ['HB: Social sciences: Economic theory, Demography'],\n",
       " ['HB: Social sciences: Economic theory, Demography'],\n",
       " ['HB: Social sciences: Economic theory, Demography'],\n",
       " ['HB: Social sciences: Economic theory, Demography'],\n",
       " ['HB: Social sciences: Economic theory, Demography'],\n",
       " ['HB: Social sciences: Economic theory, Demography'],\n",
       " ['HB: Social sciences: Economic theory, Demography'],\n",
       " ['HB: Social sciences: Economic theory, Demography'],\n",
       " ['HB: Social sciences: Economic theory, Demography'],\n",
       " ['HB: Social sciences: Economic theory, Demography'],\n",
       " ['HB: Social sciences: Economic theory, Demography'],\n",
       " ['HB: Social sciences: Economic theory, Demography'],\n",
       " ['HB: Social sciences: Economic theory, Demography'],\n",
       " ['HB: Social sciences: Economic theory, Demography'],\n",
       " ['HB: Social sciences: Economic theory, Demography'],\n",
       " ['HB: Social sciences: Economic theory, Demography'],\n",
       " ['HD: Social sciences: Economic history and conditions, Production'],\n",
       " ['HD: Social sciences: Economic history and conditions, Production'],\n",
       " ['HB: Social sciences: Economic theory, Demography'],\n",
       " ['HB: Social sciences: Economic theory, Demography'],\n",
       " ['B: Philosophy, Psychology, Religion'],\n",
       " ['HX: Social sciences: Socialism, Communism, Anarchism'],\n",
       " ['HN: Social sciences: Social history and conditions, Social problems'],\n",
       " ['H: Social sciences'],\n",
       " ['JC: Political science: Political theory'],\n",
       " ['HB: Social sciences: Economic theory, Demography'],\n",
       " ['HB: Social sciences: Economic theory, Demography'],\n",
       " ['HB: Social sciences: Economic theory, Demography'],\n",
       " ['HB: Social sciences: Economic theory, Demography'],\n",
       " ['HB: Social sciences: Economic theory, Demography'],\n",
       " ['HB: Social sciences: Economic theory, Demography'],\n",
       " ['HB: Social sciences: Economic theory, Demography'],\n",
       " ['HB: Social sciences: Economic theory, Demography'],\n",
       " ['HB: Social sciences: Economic theory, Demography'],\n",
       " ['HB: Social sciences: Economic theory, Demography'],\n",
       " ['HB: Social sciences: Economic theory, Demography'],\n",
       " ['HB: Social sciences: Economic theory, Demography'],\n",
       " ['HB: Social sciences: Economic theory, Demography'],\n",
       " ['HB: Social sciences: Economic theory, Demography'],\n",
       " ['HB: Social sciences: Economic theory, Demography'],\n",
       " ['HC: Social sciences: Economic history and conditions, Special topics'],\n",
       " ['HB: Social sciences: Economic theory, Demography', 'J: Political science'],\n",
       " ['HN: Social sciences: Social history and conditions, Social problems'],\n",
       " ['HB: Social sciences: Economic theory, Demography'],\n",
       " ['HB: Social sciences: Economic theory, Demography'],\n",
       " ['JC: Political science: Political theory'],\n",
       " ['HB: Social sciences: Economic theory, Demography'],\n",
       " ['HB: Social sciences: Economic theory, Demography'],\n",
       " ['HB: Social sciences: Economic theory, Demography',\n",
       "  'PR: Language and Literatures: English literature'],\n",
       " ['PR: Language and Literatures: English literature']]"
      ]
     },
     "execution_count": 76,
     "metadata": {},
     "output_type": "execute_result"
    }
   ],
   "source": [
    "list(data[\"loc_class\"])"
   ]
  },
  {
   "cell_type": "code",
   "execution_count": 80,
   "id": "608e8348-6481-4a4e-93db-7d6b545b4722",
   "metadata": {},
   "outputs": [
    {
     "data": {
      "text/html": [
       "<div>\n",
       "<style scoped>\n",
       "    .dataframe tbody tr th:only-of-type {\n",
       "        vertical-align: middle;\n",
       "    }\n",
       "\n",
       "    .dataframe tbody tr th {\n",
       "        vertical-align: top;\n",
       "    }\n",
       "\n",
       "    .dataframe thead th {\n",
       "        text-align: right;\n",
       "    }\n",
       "</style>\n",
       "<table border=\"1\" class=\"dataframe\">\n",
       "  <thead>\n",
       "    <tr style=\"text-align: right;\">\n",
       "      <th></th>\n",
       "      <th>author</th>\n",
       "      <th>title</th>\n",
       "      <th>subject</th>\n",
       "      <th>ebook_no</th>\n",
       "      <th>raw_text</th>\n",
       "    </tr>\n",
       "  </thead>\n",
       "  <tbody>\n",
       "    <tr>\n",
       "      <th>0</th>\n",
       "      <td>Smith, Adam, 1723-1790</td>\n",
       "      <td>An Inquiry into the Nature and Causes of the W...</td>\n",
       "      <td>[Economics]</td>\n",
       "      <td>3300</td>\n",
       "      <td>[The Project Gutenberg eBook of An Inquiry int...</td>\n",
       "    </tr>\n",
       "    <tr>\n",
       "      <th>1</th>\n",
       "      <td>Rousseau, Jean-Jacques, 1712-1778</td>\n",
       "      <td>The Social Contract &amp; Discourses</td>\n",
       "      <td>[Economics, Political science -- Early works t...</td>\n",
       "      <td>46333</td>\n",
       "      <td>[The Project Gutenberg eBook of The Social Con...</td>\n",
       "    </tr>\n",
       "    <tr>\n",
       "      <th>2</th>\n",
       "      <td>Mill, John Stuart, 1806-1873</td>\n",
       "      <td>Principles of Political EconomyAbridged with C...</td>\n",
       "      <td>[Economics]</td>\n",
       "      <td>30107</td>\n",
       "      <td>[The Project Gutenberg eBook of Principles of ...</td>\n",
       "    </tr>\n",
       "    <tr>\n",
       "      <th>3</th>\n",
       "      <td>Marx, Karl, 1818-1883</td>\n",
       "      <td>A Contribution to the Critique of Political Ec...</td>\n",
       "      <td>[Economics, Marxian economics]</td>\n",
       "      <td>46423</td>\n",
       "      <td>[The Project Gutenberg eBook of A Contribution...</td>\n",
       "    </tr>\n",
       "    <tr>\n",
       "      <th>4</th>\n",
       "      <td>George, Henry, 1839-1897</td>\n",
       "      <td>Progress and Poverty, Volumes I and IIAn Inqui...</td>\n",
       "      <td>[Economics, Single tax]</td>\n",
       "      <td>55308</td>\n",
       "      <td>[The Project Gutenberg eBook of Progress and P...</td>\n",
       "    </tr>\n",
       "    <tr>\n",
       "      <th>...</th>\n",
       "      <td>...</td>\n",
       "      <td>...</td>\n",
       "      <td>...</td>\n",
       "      <td>...</td>\n",
       "      <td>...</td>\n",
       "    </tr>\n",
       "    <tr>\n",
       "      <th>120</th>\n",
       "      <td>Rousseau, Jean-Jacques, 1712-1778</td>\n",
       "      <td>The Social Contract &amp; Discourses</td>\n",
       "      <td>[Economics, Political science -- Early works t...</td>\n",
       "      <td>46333</td>\n",
       "      <td>[The Project Gutenberg eBook of The Social Con...</td>\n",
       "    </tr>\n",
       "    <tr>\n",
       "      <th>123</th>\n",
       "      <td>Bastiat, Frédéric, 1801-1850</td>\n",
       "      <td>Essays on Political Economy</td>\n",
       "      <td>[Economics]</td>\n",
       "      <td>15962</td>\n",
       "      <td>[The Project Gutenberg eBook of Essays on Poli...</td>\n",
       "    </tr>\n",
       "    <tr>\n",
       "      <th>126</th>\n",
       "      <td>Bastiat, Frédéric, 1801-1850</td>\n",
       "      <td>Harmonies of Political EconomyTranslated from ...</td>\n",
       "      <td>[Economics]</td>\n",
       "      <td>45002</td>\n",
       "      <td>[The Project Gutenberg eBook of Harmonies of P...</td>\n",
       "    </tr>\n",
       "    <tr>\n",
       "      <th>130</th>\n",
       "      <td>Ruskin, John, 1819-1900</td>\n",
       "      <td>Unto This Last, and Other Essays on Political ...</td>\n",
       "      <td>[Art, Economics]</td>\n",
       "      <td>36541</td>\n",
       "      <td>[The Project Gutenberg eBook of Unto This Last...</td>\n",
       "    </tr>\n",
       "    <tr>\n",
       "      <th>131</th>\n",
       "      <td>Ruskin, John, 1819-1900</td>\n",
       "      <td>The Crown of Wild Olivealso Munera Pulveris; P...</td>\n",
       "      <td>[Conduct of life, Economics, English literatur...</td>\n",
       "      <td>26716</td>\n",
       "      <td>[The Project Gutenberg eBook of The Crown of W...</td>\n",
       "    </tr>\n",
       "  </tbody>\n",
       "</table>\n",
       "<p>94 rows × 5 columns</p>\n",
       "</div>"
      ],
      "text/plain": [
       "                                author  \\\n",
       "0               Smith, Adam, 1723-1790   \n",
       "1    Rousseau, Jean-Jacques, 1712-1778   \n",
       "2         Mill, John Stuart, 1806-1873   \n",
       "3                Marx, Karl, 1818-1883   \n",
       "4             George, Henry, 1839-1897   \n",
       "..                                 ...   \n",
       "120  Rousseau, Jean-Jacques, 1712-1778   \n",
       "123       Bastiat, Frédéric, 1801-1850   \n",
       "126       Bastiat, Frédéric, 1801-1850   \n",
       "130            Ruskin, John, 1819-1900   \n",
       "131            Ruskin, John, 1819-1900   \n",
       "\n",
       "                                                 title  \\\n",
       "0    An Inquiry into the Nature and Causes of the W...   \n",
       "1                     The Social Contract & Discourses   \n",
       "2    Principles of Political EconomyAbridged with C...   \n",
       "3    A Contribution to the Critique of Political Ec...   \n",
       "4    Progress and Poverty, Volumes I and IIAn Inqui...   \n",
       "..                                                 ...   \n",
       "120                   The Social Contract & Discourses   \n",
       "123                        Essays on Political Economy   \n",
       "126  Harmonies of Political EconomyTranslated from ...   \n",
       "130  Unto This Last, and Other Essays on Political ...   \n",
       "131  The Crown of Wild Olivealso Munera Pulveris; P...   \n",
       "\n",
       "                                               subject ebook_no  \\\n",
       "0                                          [Economics]     3300   \n",
       "1    [Economics, Political science -- Early works t...    46333   \n",
       "2                                          [Economics]    30107   \n",
       "3                       [Economics, Marxian economics]    46423   \n",
       "4                              [Economics, Single tax]    55308   \n",
       "..                                                 ...      ...   \n",
       "120  [Economics, Political science -- Early works t...    46333   \n",
       "123                                        [Economics]    15962   \n",
       "126                                        [Economics]    45002   \n",
       "130                                   [Art, Economics]    36541   \n",
       "131  [Conduct of life, Economics, English literatur...    26716   \n",
       "\n",
       "                                              raw_text  \n",
       "0    [The Project Gutenberg eBook of An Inquiry int...  \n",
       "1    [The Project Gutenberg eBook of The Social Con...  \n",
       "2    [The Project Gutenberg eBook of Principles of ...  \n",
       "3    [The Project Gutenberg eBook of A Contribution...  \n",
       "4    [The Project Gutenberg eBook of Progress and P...  \n",
       "..                                                 ...  \n",
       "120  [The Project Gutenberg eBook of The Social Con...  \n",
       "123  [The Project Gutenberg eBook of Essays on Poli...  \n",
       "126  [The Project Gutenberg eBook of Harmonies of P...  \n",
       "130  [The Project Gutenberg eBook of Unto This Last...  \n",
       "131  [The Project Gutenberg eBook of The Crown of W...  \n",
       "\n",
       "[94 rows x 5 columns]"
      ]
     },
     "execution_count": 80,
     "metadata": {},
     "output_type": "execute_result"
    }
   ],
   "source": [
    "data[['author', 'title', 'subject', 'ebook_no', 'raw_text']]"
   ]
  },
  {
   "cell_type": "code",
   "execution_count": 84,
   "id": "55956096-f7b0-4896-8d00-bbeca2d65583",
   "metadata": {},
   "outputs": [
    {
     "data": {
      "text/plain": [
       "0       3300\n",
       "1      46333\n",
       "2      30107\n",
       "3      46423\n",
       "4      55308\n",
       "       ...  \n",
       "120    46333\n",
       "123    15962\n",
       "126    45002\n",
       "130    36541\n",
       "131    26716\n",
       "Name: ebook_no, Length: 94, dtype: object"
      ]
     },
     "execution_count": 84,
     "metadata": {},
     "output_type": "execute_result"
    }
   ],
   "source": [
    "data['ebook_no']"
   ]
  },
  {
   "cell_type": "code",
   "execution_count": 88,
   "id": "642d24ec-4a1e-46e1-99ea-493849ad4fb9",
   "metadata": {},
   "outputs": [],
   "source": [
    "data = data.drop_duplicates(subset=[\"ebook_no\"])"
   ]
  },
  {
   "cell_type": "code",
   "execution_count": 97,
   "id": "43a69268-900f-4057-a335-5bad94345cff",
   "metadata": {},
   "outputs": [],
   "source": [
    "data = data[['author', 'title',  'subject',  'raw_text']]"
   ]
  },
  {
   "cell_type": "code",
   "execution_count": null,
   "id": "1b156708-366f-4286-b587-8ae87dabf442",
   "metadata": {},
   "outputs": [],
   "source": []
  },
  {
   "cell_type": "code",
   "execution_count": 113,
   "id": "b811fa2f-053e-4dda-a197-2f1863429fc4",
   "metadata": {},
   "outputs": [
    {
     "name": "stdout",
     "output_type": "stream",
     "text": [
      "Bastiat, Frédéric, 1801-1850 | Essays on Political Economy|Harmonies of Political EconomyTranslated from the Third French Edition, with a Notice of the Life and Writings of the Author\n",
      "Clark, John Bates, 1847-1938 | Essentials of Economic TheoryAs Applied to Modern Problems of Industry and Public Policy\n",
      "Clarke, Charles Baron, 1832-1906 | Speculations from Political Economy\n",
      "Cool, Thomas | Definition & Reality in the General Theory of Political Economy\n",
      "Croce, Benedetto, 1866-1952 | The Philosophy of the Practical: Economic and Ethic\n",
      "Engels, Friedrich, 1820-1895 | Landmarks of Scientific Socialism: \"Anti-Duehring\"\n",
      "Fairchild, Geo. T. (George Thompson), 1838-1901 | Rural Wealth and Welfare: Economic Principles Illustrated and Applied in Farm Life\n",
      "Feis, Herbert, 1893-1972 | The Settlement of Wage Disputes\n",
      "Fetter, Frank A. (Frank Albert), 1863-1949 | The Principles of Economics, with Applications to Practical Problems|Economics Volume II: Modern Economic Problems\n",
      "George, Henry, 1839-1897 | Progress and Poverty, Volumes I and IIAn Inquiry into the Cause of Industrial Depressions and of Increase of Want with Increase of Wealth\n",
      "Hume, David, 1711-1776 | Hume's Political Discourses\n",
      "Jevons, William Stanley, 1835-1882 | Political economy\n",
      "Kropotkin, Petr Alekseevich, kniaz, 1842-1921 | Fields, factories and workshops :  or, Industry combined with agriculture and brain work with manual work\n",
      "Leacock, Stephen, 1869-1944 | The Unsolved Riddle of Social Justice\n",
      "Malthus, T. R. (Thomas Robert), 1766-1834 | Definitions in Political Economy,Preceded by an Inquiry Into the Rules which Ought to Guide Political Economists in the Definition and Use of Their Terms; with Remarks on the Deviation from These Rules in Their Writings\n",
      "Marx, Karl, 1818-1883 | A Contribution to the Critique of Political Economy\n",
      "Mill, John Stuart, 1806-1873 | Principles of Political EconomyAbridged with Critical, Bibliographical, and Explanatory Notes, and a Sketch of the History of Political Economy|Essays on some unsettled Questions of Political Economy\n",
      "Perry, Arthur Latham, 1830-1905 | Principles of Political Economy\n",
      "Playfair, William, 1759-1823 | An inquiry into the permanent causes of the decline and fall of powerful and wealthy nations :  Designed to shew how the prosperity of the British empire may be prolonged\n",
      "Proudhon, P.-J. (Pierre-Joseph), 1809-1865 | What is Property? An Inquiry into the Principle of Right and of Government|System of Economical Contradictions; Or, The Philosophy of Misery\n",
      "Ricardo, David, 1772-1823 | On The Principles of Political Economy, and Taxation\n",
      "Roscher, Wilhelm, 1817-1894 | Principles of Political Economy, Vol. 1|Principles of Political Economy, Vol. 2\n",
      "Rousseau, Jean-Jacques, 1712-1778 | The Social Contract & Discourses\n",
      "Ruskin, John, 1819-1900 | Unto This Last, and Other Essays on Political Economy|The Crown of Wild Olivealso Munera Pulveris; Pre-Raphaelitism; Aratra Pentelici; The Ethics of the Dust; Fiction, Fair and Foul; The Elements of Drawing\n",
      "Russell, Bertrand, 1872-1970 | Political Ideals\n",
      "Senior, Nassau William, 1790-1864 | Four Introductory Lectures on Political Economy\n",
      "Smith, Adam, 1723-1790 | An Inquiry into the Nature and Causes of the Wealth of Nations\n",
      "Steuart, James, Sir, 1712-1780 | An Inquiry into the Principles of Political Oeconomy (Vol. 1 of 2)Being an essay on the science of domestic policy in free nations. In which are particularly considered population, agriculture, trade, industry, money, coin, interest, circulation, banks, exchange, public credit, and taxes|An Inquiry into the Principles of Political Oeconomy (Vol. 2 of 2)Being an essay on the science of domestic policy in free nations. In which are particularly considered population, agriculture, trade, industry, money, coin, interest, circulation, banks, exchange, public credit, and taxes\n",
      "Sumner, William Graham, 1840-1910 | What Social Classes Owe to Each Other|The Forgotten Man, and Other Essays\n",
      "Tawney, R. H. (Richard Henry), 1880-1962 | The Acquisitive Society\n",
      "Vaknin, Samuel, 1961- | Cyclopedia of Economics|Capitalistic Musings\n",
      "Veblen, Thorstein, 1857-1929 | The Place of Science in Modern Civilisation, and Other Essays\n"
     ]
    }
   ],
   "source": [
    "for k, v in data[[\"author\",\"title\"]].groupby(\"author\").agg(list).to_dict()[\"title\"].items():\n",
    "    print(k,\"|\", \"|\".join(v))"
   ]
  },
  {
   "cell_type": "code",
   "execution_count": 120,
   "id": "f9b5613f-233b-4675-a33b-c9d981bb9168",
   "metadata": {},
   "outputs": [],
   "source": [
    "from collections import Counter"
   ]
  },
  {
   "cell_type": "code",
   "execution_count": 124,
   "id": "78e2448f-de9e-4fb3-bcc0-f04802868547",
   "metadata": {},
   "outputs": [
    {
     "name": "stdout",
     "output_type": "stream",
     "text": [
      "Economics | 41\n",
      "Socialism | 3\n",
      "Political science | 3\n",
      "Social problems | 2\n",
      "Industries | 2\n",
      "Agriculture -- Economic aspects | 2\n",
      "Political science -- Early works to 1800 | 1\n",
      "Social contract | 1\n",
      "Marxian economics | 1\n",
      "Single tax | 1\n",
      "Property | 1\n",
      "Individualism | 1\n",
      "Art | 1\n",
      "Conduct of life | 1\n",
      "English literature -- History and criticism | 1\n",
      "War | 1\n",
      "Work | 1\n",
      "Architecture | 1\n",
      "Drawing -- Study and teaching | 1\n",
      "Wages -- United States | 1\n",
      "Science | 1\n",
      "Social ethics | 1\n",
      "History -- Philosophy | 1\n",
      "Great Britain -- Economic conditions | 1\n",
      "Philosophy | 1\n",
      "Dialectical materialism | 1\n",
      "Dühring, E. (Eugen), 1833-1921 | 1\n",
      "Technical education | 1\n",
      "Classical school of economics | 1\n",
      "Social sciences | 1\n",
      "Ethics | 1\n",
      "Will | 1\n",
      "Capitalism | 1\n"
     ]
    }
   ],
   "source": [
    "for sub, count in Counter([s for ss in data[\"subject\"].values for s in ss]).most_common():\n",
    "    print(sub,\"|\", count)"
   ]
  },
  {
   "cell_type": "code",
   "execution_count": null,
   "id": "45992966-3414-4ff1-a42f-ee3f3da2073d",
   "metadata": {},
   "outputs": [],
   "source": []
  }
 ],
 "metadata": {
  "kernelspec": {
   "display_name": "Python 3 (ipykernel)",
   "language": "python",
   "name": "python3"
  },
  "language_info": {
   "codemirror_mode": {
    "name": "ipython",
    "version": 3
   },
   "file_extension": ".py",
   "mimetype": "text/x-python",
   "name": "python",
   "nbconvert_exporter": "python",
   "pygments_lexer": "ipython3",
   "version": "3.10.12"
  }
 },
 "nbformat": 4,
 "nbformat_minor": 5
}
