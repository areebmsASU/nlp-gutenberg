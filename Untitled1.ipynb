{
 "cells": [
  {
   "cell_type": "code",
   "execution_count": 1,
   "id": "846f5154-5ae0-4683-8181-e7bdaecf5b07",
   "metadata": {},
   "outputs": [],
   "source": [
    "import pandas as pd\n",
    "import json"
   ]
  },
  {
   "cell_type": "code",
   "execution_count": 2,
   "id": "2654136f-aaf9-4371-8502-23f7c03a1ab9",
   "metadata": {},
   "outputs": [],
   "source": [
    "with open(\"data_cleaned.json\") as f:\n",
    "    data = pd.DataFrame(json.load(f))"
   ]
  },
  {
   "cell_type": "code",
   "execution_count": 3,
   "id": "390b77f0-5c5d-4b4c-8781-ce92bf9bd0a7",
   "metadata": {},
   "outputs": [],
   "source": [
    "data[\"para_count\"] = data[\"text\"].map(lambda paras : len([para for para in paras if para]))"
   ]
  },
  {
   "cell_type": "code",
   "execution_count": 4,
   "id": "59d74681-12ff-471f-ae2a-10e2d4f9a78f",
   "metadata": {},
   "outputs": [],
   "source": [
    "data[\"char_count\"] = data[\"text\"].map(lambda x : len(\"\".join(x)))"
   ]
  },
  {
   "cell_type": "code",
   "execution_count": 5,
   "id": "149f3ef6-9b5d-4ba6-b97f-b33f6c0966b9",
   "metadata": {},
   "outputs": [],
   "source": [
    "data[\"token_count\"] = data[\"text\"].map(lambda x : len([token for token in \" \".join(x).split() if token]))"
   ]
  },
  {
   "cell_type": "code",
   "execution_count": 6,
   "id": "f81772ad-b43d-449c-8e7c-6b7b72f7dea6",
   "metadata": {},
   "outputs": [],
   "source": [
    "data[\"chars_per_para\"] = data[\"char_count\"] / data[\"para_count\"] "
   ]
  },
  {
   "cell_type": "code",
   "execution_count": 7,
   "id": "c3276a9e-adfa-47ab-86ae-a91f19084de2",
   "metadata": {},
   "outputs": [],
   "source": [
    "data[\"tokens_per_para\"] = data[\"token_count\"] / data[\"para_count\"] "
   ]
  },
  {
   "cell_type": "code",
   "execution_count": 8,
   "id": "101c3ae5-230f-43a1-a9e7-f84bf3f6e790",
   "metadata": {},
   "outputs": [
    {
     "data": {
      "text/html": [
       "<div>\n",
       "<style scoped>\n",
       "    .dataframe tbody tr th:only-of-type {\n",
       "        vertical-align: middle;\n",
       "    }\n",
       "\n",
       "    .dataframe tbody tr th {\n",
       "        vertical-align: top;\n",
       "    }\n",
       "\n",
       "    .dataframe thead th {\n",
       "        text-align: right;\n",
       "    }\n",
       "</style>\n",
       "<table border=\"1\" class=\"dataframe\">\n",
       "  <thead>\n",
       "    <tr style=\"text-align: right;\">\n",
       "      <th></th>\n",
       "      <th>title</th>\n",
       "      <th>ebook_no</th>\n",
       "      <th>author</th>\n",
       "      <th>text</th>\n",
       "      <th>para_count</th>\n",
       "      <th>char_count</th>\n",
       "      <th>token_count</th>\n",
       "      <th>chars_per_para</th>\n",
       "      <th>tokens_per_para</th>\n",
       "    </tr>\n",
       "  </thead>\n",
       "  <tbody>\n",
       "    <tr>\n",
       "      <th>0</th>\n",
       "      <td>An Inquiry into the Nature and Causes of the W...</td>\n",
       "      <td>3300</td>\n",
       "      <td>Smith, Adam, 1723-1790</td>\n",
       "      <td>[, , , An Inquiry into the Nature and Causes o...</td>\n",
       "      <td>152</td>\n",
       "      <td>2220794</td>\n",
       "      <td>381064</td>\n",
       "      <td>14610.486842</td>\n",
       "      <td>2507.000000</td>\n",
       "    </tr>\n",
       "    <tr>\n",
       "      <th>1</th>\n",
       "      <td>The Theory of Moral SentimentsOr, an Essay Tow...</td>\n",
       "      <td>67363</td>\n",
       "      <td>Smith, Adam, 1723-1790</td>\n",
       "      <td>[, , , , , THE THEORY OF MORAL SENTIMENTS; OR,...</td>\n",
       "      <td>723</td>\n",
       "      <td>684998</td>\n",
       "      <td>117582</td>\n",
       "      <td>947.438451</td>\n",
       "      <td>162.630705</td>\n",
       "    </tr>\n",
       "    <tr>\n",
       "      <th>2</th>\n",
       "      <td>The Essays of Adam Smith</td>\n",
       "      <td>58559</td>\n",
       "      <td>Smith, Adam, 1723-1790</td>\n",
       "      <td>[, , , Produced by Ed Brandon from material at...</td>\n",
       "      <td>1395</td>\n",
       "      <td>1418146</td>\n",
       "      <td>242838</td>\n",
       "      <td>1016.592115</td>\n",
       "      <td>174.077419</td>\n",
       "    </tr>\n",
       "    <tr>\n",
       "      <th>3</th>\n",
       "      <td>The Social Contract &amp; Discourses</td>\n",
       "      <td>46333</td>\n",
       "      <td>Rousseau, Jean-Jacques, 1712-1778</td>\n",
       "      <td>[, E-text prepared by Marc D'Hooghe (http://ww...</td>\n",
       "      <td>1098</td>\n",
       "      <td>706831</td>\n",
       "      <td>123525</td>\n",
       "      <td>643.744080</td>\n",
       "      <td>112.500000</td>\n",
       "    </tr>\n",
       "    <tr>\n",
       "      <th>4</th>\n",
       "      <td>A Discourse Upon the Origin and the Foundation...</td>\n",
       "      <td>11136</td>\n",
       "      <td>Rousseau, Jean-Jacques, 1712-1778</td>\n",
       "      <td>[, , , , A Discourse Upon The Origin And The F...</td>\n",
       "      <td>132</td>\n",
       "      <td>153703</td>\n",
       "      <td>26821</td>\n",
       "      <td>1164.416667</td>\n",
       "      <td>203.189394</td>\n",
       "    </tr>\n",
       "    <tr>\n",
       "      <th>...</th>\n",
       "      <td>...</td>\n",
       "      <td>...</td>\n",
       "      <td>...</td>\n",
       "      <td>...</td>\n",
       "      <td>...</td>\n",
       "      <td>...</td>\n",
       "      <td>...</td>\n",
       "      <td>...</td>\n",
       "      <td>...</td>\n",
       "    </tr>\n",
       "    <tr>\n",
       "      <th>220</th>\n",
       "      <td>Rural Wealth and Welfare: Economic Principles ...</td>\n",
       "      <td>32158</td>\n",
       "      <td>Fairchild, Geo. T. (George Thompson), 1838-1901</td>\n",
       "      <td>[, , , , The Rural Science Series, Edited by L...</td>\n",
       "      <td>1030</td>\n",
       "      <td>586905</td>\n",
       "      <td>97597</td>\n",
       "      <td>569.810680</td>\n",
       "      <td>94.754369</td>\n",
       "    </tr>\n",
       "    <tr>\n",
       "      <th>221</th>\n",
       "      <td>Speculations from Political Economy</td>\n",
       "      <td>8436</td>\n",
       "      <td>Clarke, Charles Baron, 1832-1906</td>\n",
       "      <td>[, , , Produced by John Hagerson, Jonathan Ing...</td>\n",
       "      <td>160</td>\n",
       "      <td>117122</td>\n",
       "      <td>20584</td>\n",
       "      <td>732.012500</td>\n",
       "      <td>128.650000</td>\n",
       "    </tr>\n",
       "    <tr>\n",
       "      <th>222</th>\n",
       "      <td>Four Introductory Lectures on Political Economy</td>\n",
       "      <td>47266</td>\n",
       "      <td>Senior, Nassau William, 1790-1864</td>\n",
       "      <td>[, , , Produced by Donald Cummings, Adrian Mas...</td>\n",
       "      <td>129</td>\n",
       "      <td>110556</td>\n",
       "      <td>18755</td>\n",
       "      <td>857.023256</td>\n",
       "      <td>145.387597</td>\n",
       "    </tr>\n",
       "    <tr>\n",
       "      <th>223</th>\n",
       "      <td>Correspondence &amp; Conversations of Alexis de To...</td>\n",
       "      <td>13333</td>\n",
       "      <td>Senior, Nassau William, 1790-1864 &amp; Tocquevill...</td>\n",
       "      <td>[, , , Produced by G. Graustein and PG Distrib...</td>\n",
       "      <td>1471</td>\n",
       "      <td>435524</td>\n",
       "      <td>75725</td>\n",
       "      <td>296.073419</td>\n",
       "      <td>51.478586</td>\n",
       "    </tr>\n",
       "    <tr>\n",
       "      <th>224</th>\n",
       "      <td>Statement of the Provision for the Poor, and o...</td>\n",
       "      <td>53316</td>\n",
       "      <td>Senior, Nassau William, 1790-1864</td>\n",
       "      <td>[, , , Produced by Bryan Ness and the Online D...</td>\n",
       "      <td>1476</td>\n",
       "      <td>514434</td>\n",
       "      <td>86792</td>\n",
       "      <td>348.532520</td>\n",
       "      <td>58.802168</td>\n",
       "    </tr>\n",
       "  </tbody>\n",
       "</table>\n",
       "<p>225 rows × 9 columns</p>\n",
       "</div>"
      ],
      "text/plain": [
       "                                                 title  ebook_no  \\\n",
       "0    An Inquiry into the Nature and Causes of the W...      3300   \n",
       "1    The Theory of Moral SentimentsOr, an Essay Tow...     67363   \n",
       "2                             The Essays of Adam Smith     58559   \n",
       "3                     The Social Contract & Discourses     46333   \n",
       "4    A Discourse Upon the Origin and the Foundation...     11136   \n",
       "..                                                 ...       ...   \n",
       "220  Rural Wealth and Welfare: Economic Principles ...     32158   \n",
       "221                Speculations from Political Economy      8436   \n",
       "222    Four Introductory Lectures on Political Economy     47266   \n",
       "223  Correspondence & Conversations of Alexis de To...     13333   \n",
       "224  Statement of the Provision for the Poor, and o...     53316   \n",
       "\n",
       "                                                author  \\\n",
       "0                               Smith, Adam, 1723-1790   \n",
       "1                               Smith, Adam, 1723-1790   \n",
       "2                               Smith, Adam, 1723-1790   \n",
       "3                    Rousseau, Jean-Jacques, 1712-1778   \n",
       "4                    Rousseau, Jean-Jacques, 1712-1778   \n",
       "..                                                 ...   \n",
       "220    Fairchild, Geo. T. (George Thompson), 1838-1901   \n",
       "221                   Clarke, Charles Baron, 1832-1906   \n",
       "222                  Senior, Nassau William, 1790-1864   \n",
       "223  Senior, Nassau William, 1790-1864 & Tocquevill...   \n",
       "224                  Senior, Nassau William, 1790-1864   \n",
       "\n",
       "                                                  text  para_count  \\\n",
       "0    [, , , An Inquiry into the Nature and Causes o...         152   \n",
       "1    [, , , , , THE THEORY OF MORAL SENTIMENTS; OR,...         723   \n",
       "2    [, , , Produced by Ed Brandon from material at...        1395   \n",
       "3    [, E-text prepared by Marc D'Hooghe (http://ww...        1098   \n",
       "4    [, , , , A Discourse Upon The Origin And The F...         132   \n",
       "..                                                 ...         ...   \n",
       "220  [, , , , The Rural Science Series, Edited by L...        1030   \n",
       "221  [, , , Produced by John Hagerson, Jonathan Ing...         160   \n",
       "222  [, , , Produced by Donald Cummings, Adrian Mas...         129   \n",
       "223  [, , , Produced by G. Graustein and PG Distrib...        1471   \n",
       "224  [, , , Produced by Bryan Ness and the Online D...        1476   \n",
       "\n",
       "     char_count  token_count  chars_per_para  tokens_per_para  \n",
       "0       2220794       381064    14610.486842      2507.000000  \n",
       "1        684998       117582      947.438451       162.630705  \n",
       "2       1418146       242838     1016.592115       174.077419  \n",
       "3        706831       123525      643.744080       112.500000  \n",
       "4        153703        26821     1164.416667       203.189394  \n",
       "..          ...          ...             ...              ...  \n",
       "220      586905        97597      569.810680        94.754369  \n",
       "221      117122        20584      732.012500       128.650000  \n",
       "222      110556        18755      857.023256       145.387597  \n",
       "223      435524        75725      296.073419        51.478586  \n",
       "224      514434        86792      348.532520        58.802168  \n",
       "\n",
       "[225 rows x 9 columns]"
      ]
     },
     "execution_count": 8,
     "metadata": {},
     "output_type": "execute_result"
    }
   ],
   "source": [
    "data"
   ]
  },
  {
   "cell_type": "code",
   "execution_count": 9,
   "id": "5da1b6a2-b742-419e-8a76-9cdf4ea1e749",
   "metadata": {},
   "outputs": [
    {
     "data": {
      "text/plain": [
       "<Axes: ylabel='Frequency'>"
      ]
     },
     "execution_count": 9,
     "metadata": {},
     "output_type": "execute_result"
    },
    {
     "data": {
      "image/png": "[encoded data removed]",
      "text/plain": [
       "<Figure size 640x480 with 1 Axes>"
      ]
     },
     "metadata": {},
     "output_type": "display_data"
    }
   ],
   "source": [
    "data[\"token_count\"].plot.hist(bins=100)"
   ]
  },
  {
   "cell_type": "code",
   "execution_count": 10,
   "id": "f47b15b6-3779-4a81-b855-887422f51d53",
   "metadata": {},
   "outputs": [
    {
     "data": {
      "text/html": [
       "<div>\n",
       "<style scoped>\n",
       "    .dataframe tbody tr th:only-of-type {\n",
       "        vertical-align: middle;\n",
       "    }\n",
       "\n",
       "    .dataframe tbody tr th {\n",
       "        vertical-align: top;\n",
       "    }\n",
       "\n",
       "    .dataframe thead th {\n",
       "        text-align: right;\n",
       "    }\n",
       "</style>\n",
       "<table border=\"1\" class=\"dataframe\">\n",
       "  <thead>\n",
       "    <tr style=\"text-align: right;\">\n",
       "      <th></th>\n",
       "      <th>title</th>\n",
       "      <th>ebook_no</th>\n",
       "      <th>author</th>\n",
       "      <th>text</th>\n",
       "      <th>para_count</th>\n",
       "      <th>char_count</th>\n",
       "      <th>token_count</th>\n",
       "      <th>chars_per_para</th>\n",
       "      <th>tokens_per_para</th>\n",
       "    </tr>\n",
       "  </thead>\n",
       "  <tbody>\n",
       "    <tr>\n",
       "      <th>0</th>\n",
       "      <td>An Inquiry into the Nature and Causes of the W...</td>\n",
       "      <td>3300</td>\n",
       "      <td>Smith, Adam, 1723-1790</td>\n",
       "      <td>[, , , An Inquiry into the Nature and Causes o...</td>\n",
       "      <td>152</td>\n",
       "      <td>2220794</td>\n",
       "      <td>381064</td>\n",
       "      <td>14610.486842</td>\n",
       "      <td>2507.000000</td>\n",
       "    </tr>\n",
       "    <tr>\n",
       "      <th>1</th>\n",
       "      <td>The Theory of Moral SentimentsOr, an Essay Tow...</td>\n",
       "      <td>67363</td>\n",
       "      <td>Smith, Adam, 1723-1790</td>\n",
       "      <td>[, , , , , THE THEORY OF MORAL SENTIMENTS; OR,...</td>\n",
       "      <td>723</td>\n",
       "      <td>684998</td>\n",
       "      <td>117582</td>\n",
       "      <td>947.438451</td>\n",
       "      <td>162.630705</td>\n",
       "    </tr>\n",
       "    <tr>\n",
       "      <th>2</th>\n",
       "      <td>The Essays of Adam Smith</td>\n",
       "      <td>58559</td>\n",
       "      <td>Smith, Adam, 1723-1790</td>\n",
       "      <td>[, , , Produced by Ed Brandon from material at...</td>\n",
       "      <td>1395</td>\n",
       "      <td>1418146</td>\n",
       "      <td>242838</td>\n",
       "      <td>1016.592115</td>\n",
       "      <td>174.077419</td>\n",
       "    </tr>\n",
       "    <tr>\n",
       "      <th>3</th>\n",
       "      <td>The Social Contract &amp; Discourses</td>\n",
       "      <td>46333</td>\n",
       "      <td>Rousseau, Jean-Jacques, 1712-1778</td>\n",
       "      <td>[, E-text prepared by Marc D'Hooghe (http://ww...</td>\n",
       "      <td>1098</td>\n",
       "      <td>706831</td>\n",
       "      <td>123525</td>\n",
       "      <td>643.744080</td>\n",
       "      <td>112.500000</td>\n",
       "    </tr>\n",
       "    <tr>\n",
       "      <th>4</th>\n",
       "      <td>A Discourse Upon the Origin and the Foundation...</td>\n",
       "      <td>11136</td>\n",
       "      <td>Rousseau, Jean-Jacques, 1712-1778</td>\n",
       "      <td>[, , , , A Discourse Upon The Origin And The F...</td>\n",
       "      <td>132</td>\n",
       "      <td>153703</td>\n",
       "      <td>26821</td>\n",
       "      <td>1164.416667</td>\n",
       "      <td>203.189394</td>\n",
       "    </tr>\n",
       "    <tr>\n",
       "      <th>...</th>\n",
       "      <td>...</td>\n",
       "      <td>...</td>\n",
       "      <td>...</td>\n",
       "      <td>...</td>\n",
       "      <td>...</td>\n",
       "      <td>...</td>\n",
       "      <td>...</td>\n",
       "      <td>...</td>\n",
       "      <td>...</td>\n",
       "    </tr>\n",
       "    <tr>\n",
       "      <th>220</th>\n",
       "      <td>Rural Wealth and Welfare: Economic Principles ...</td>\n",
       "      <td>32158</td>\n",
       "      <td>Fairchild, Geo. T. (George Thompson), 1838-1901</td>\n",
       "      <td>[, , , , The Rural Science Series, Edited by L...</td>\n",
       "      <td>1030</td>\n",
       "      <td>586905</td>\n",
       "      <td>97597</td>\n",
       "      <td>569.810680</td>\n",
       "      <td>94.754369</td>\n",
       "    </tr>\n",
       "    <tr>\n",
       "      <th>221</th>\n",
       "      <td>Speculations from Political Economy</td>\n",
       "      <td>8436</td>\n",
       "      <td>Clarke, Charles Baron, 1832-1906</td>\n",
       "      <td>[, , , Produced by John Hagerson, Jonathan Ing...</td>\n",
       "      <td>160</td>\n",
       "      <td>117122</td>\n",
       "      <td>20584</td>\n",
       "      <td>732.012500</td>\n",
       "      <td>128.650000</td>\n",
       "    </tr>\n",
       "    <tr>\n",
       "      <th>222</th>\n",
       "      <td>Four Introductory Lectures on Political Economy</td>\n",
       "      <td>47266</td>\n",
       "      <td>Senior, Nassau William, 1790-1864</td>\n",
       "      <td>[, , , Produced by Donald Cummings, Adrian Mas...</td>\n",
       "      <td>129</td>\n",
       "      <td>110556</td>\n",
       "      <td>18755</td>\n",
       "      <td>857.023256</td>\n",
       "      <td>145.387597</td>\n",
       "    </tr>\n",
       "    <tr>\n",
       "      <th>223</th>\n",
       "      <td>Correspondence &amp; Conversations of Alexis de To...</td>\n",
       "      <td>13333</td>\n",
       "      <td>Senior, Nassau William, 1790-1864 &amp; Tocquevill...</td>\n",
       "      <td>[, , , Produced by G. Graustein and PG Distrib...</td>\n",
       "      <td>1471</td>\n",
       "      <td>435524</td>\n",
       "      <td>75725</td>\n",
       "      <td>296.073419</td>\n",
       "      <td>51.478586</td>\n",
       "    </tr>\n",
       "    <tr>\n",
       "      <th>224</th>\n",
       "      <td>Statement of the Provision for the Poor, and o...</td>\n",
       "      <td>53316</td>\n",
       "      <td>Senior, Nassau William, 1790-1864</td>\n",
       "      <td>[, , , Produced by Bryan Ness and the Online D...</td>\n",
       "      <td>1476</td>\n",
       "      <td>514434</td>\n",
       "      <td>86792</td>\n",
       "      <td>348.532520</td>\n",
       "      <td>58.802168</td>\n",
       "    </tr>\n",
       "  </tbody>\n",
       "</table>\n",
       "<p>225 rows × 9 columns</p>\n",
       "</div>"
      ],
      "text/plain": [
       "                                                 title  ebook_no  \\\n",
       "0    An Inquiry into the Nature and Causes of the W...      3300   \n",
       "1    The Theory of Moral SentimentsOr, an Essay Tow...     67363   \n",
       "2                             The Essays of Adam Smith     58559   \n",
       "3                     The Social Contract & Discourses     46333   \n",
       "4    A Discourse Upon the Origin and the Foundation...     11136   \n",
       "..                                                 ...       ...   \n",
       "220  Rural Wealth and Welfare: Economic Principles ...     32158   \n",
       "221                Speculations from Political Economy      8436   \n",
       "222    Four Introductory Lectures on Political Economy     47266   \n",
       "223  Correspondence & Conversations of Alexis de To...     13333   \n",
       "224  Statement of the Provision for the Poor, and o...     53316   \n",
       "\n",
       "                                                author  \\\n",
       "0                               Smith, Adam, 1723-1790   \n",
       "1                               Smith, Adam, 1723-1790   \n",
       "2                               Smith, Adam, 1723-1790   \n",
       "3                    Rousseau, Jean-Jacques, 1712-1778   \n",
       "4                    Rousseau, Jean-Jacques, 1712-1778   \n",
       "..                                                 ...   \n",
       "220    Fairchild, Geo. T. (George Thompson), 1838-1901   \n",
       "221                   Clarke, Charles Baron, 1832-1906   \n",
       "222                  Senior, Nassau William, 1790-1864   \n",
       "223  Senior, Nassau William, 1790-1864 & Tocquevill...   \n",
       "224                  Senior, Nassau William, 1790-1864   \n",
       "\n",
       "                                                  text  para_count  \\\n",
       "0    [, , , An Inquiry into the Nature and Causes o...         152   \n",
       "1    [, , , , , THE THEORY OF MORAL SENTIMENTS; OR,...         723   \n",
       "2    [, , , Produced by Ed Brandon from material at...        1395   \n",
       "3    [, E-text prepared by Marc D'Hooghe (http://ww...        1098   \n",
       "4    [, , , , A Discourse Upon The Origin And The F...         132   \n",
       "..                                                 ...         ...   \n",
       "220  [, , , , The Rural Science Series, Edited by L...        1030   \n",
       "221  [, , , Produced by John Hagerson, Jonathan Ing...         160   \n",
       "222  [, , , Produced by Donald Cummings, Adrian Mas...         129   \n",
       "223  [, , , Produced by G. Graustein and PG Distrib...        1471   \n",
       "224  [, , , Produced by Bryan Ness and the Online D...        1476   \n",
       "\n",
       "     char_count  token_count  chars_per_para  tokens_per_para  \n",
       "0       2220794       381064    14610.486842      2507.000000  \n",
       "1        684998       117582      947.438451       162.630705  \n",
       "2       1418146       242838     1016.592115       174.077419  \n",
       "3        706831       123525      643.744080       112.500000  \n",
       "4        153703        26821     1164.416667       203.189394  \n",
       "..          ...          ...             ...              ...  \n",
       "220      586905        97597      569.810680        94.754369  \n",
       "221      117122        20584      732.012500       128.650000  \n",
       "222      110556        18755      857.023256       145.387597  \n",
       "223      435524        75725      296.073419        51.478586  \n",
       "224      514434        86792      348.532520        58.802168  \n",
       "\n",
       "[225 rows x 9 columns]"
      ]
     },
     "execution_count": 10,
     "metadata": {},
     "output_type": "execute_result"
    }
   ],
   "source": [
    "data"
   ]
  },
  {
   "cell_type": "code",
   "execution_count": 11,
   "id": "1c9b5f15-eeb0-490b-88e7-48aa6f2b0a8e",
   "metadata": {},
   "outputs": [
    {
     "data": {
      "text/plain": [
       "<Axes: ylabel='Frequency'>"
      ]
     },
     "execution_count": 11,
     "metadata": {},
     "output_type": "execute_result"
    },
    {
     "data": {
      "image/png": "[encoded data removed]",
      "text/plain": [
       "<Figure size 640x480 with 1 Axes>"
      ]
     },
     "metadata": {},
     "output_type": "display_data"
    }
   ],
   "source": [
    "data[\"para_count\"].plot.hist(bins=100)"
   ]
  },
  {
   "cell_type": "code",
   "execution_count": 12,
   "id": "54feba6e-4208-46f1-985e-5a3af6bf0ec3",
   "metadata": {},
   "outputs": [
    {
     "data": {
      "text/plain": [
       "<Axes: ylabel='Frequency'>"
      ]
     },
     "execution_count": 12,
     "metadata": {},
     "output_type": "execute_result"
    },
    {
     "data": {
      "image/png": "[encoded data removed]",
      "text/plain": [
       "<Figure size 640x480 with 1 Axes>"
      ]
     },
     "metadata": {},
     "output_type": "display_data"
    }
   ],
   "source": [
    "data[\"char_count\"].plot.hist(bins=100)"
   ]
  },
  {
   "cell_type": "code",
   "execution_count": 13,
   "id": "f7124159-9280-40fd-b62b-70eeb43ddf51",
   "metadata": {},
   "outputs": [
    {
     "data": {
      "text/plain": [
       "110.56934273944684"
      ]
     },
     "execution_count": 13,
     "metadata": {},
     "output_type": "execute_result"
    }
   ],
   "source": [
    "data[\"tokens_per_para\"][1:].mean()"
   ]
  },
  {
   "cell_type": "code",
   "execution_count": 14,
   "id": "ea404722-5d8a-45f7-b593-c373902e4da1",
   "metadata": {},
   "outputs": [
    {
     "data": {
      "text/plain": [
       "121.22014566060484"
      ]
     },
     "execution_count": 14,
     "metadata": {},
     "output_type": "execute_result"
    }
   ],
   "source": [
    "data[\"tokens_per_para\"].mean()"
   ]
  },
  {
   "cell_type": "code",
   "execution_count": 15,
   "id": "2e6736e5-181b-44cc-8cbc-3f19fb2c5d2f",
   "metadata": {},
   "outputs": [],
   "source": [
    "from collections import defaultdict"
   ]
  },
  {
   "cell_type": "code",
   "execution_count": 16,
   "id": "e54b7dac-d892-4975-9324-ecc4f887f229",
   "metadata": {},
   "outputs": [],
   "source": [
    "s  = defaultdict(int)\n",
    "for paras in data[\"text\"]:\n",
    "    for para in paras:\n",
    "        if para:\n",
    "            s[len([token for token in para.split() if token])] += 1"
   ]
  },
  {
   "cell_type": "code",
   "execution_count": 17,
   "id": "2094a0c6-194c-4aa0-91b8-935a34deb0bd",
   "metadata": {},
   "outputs": [
    {
     "data": {
      "text/plain": [
       "90.45982921205076"
      ]
     },
     "execution_count": 17,
     "metadata": {},
     "output_type": "execute_result"
    }
   ],
   "source": [
    "sum(k*v for k,v in s.items())/sum(s.values())"
   ]
  },
  {
   "cell_type": "code",
   "execution_count": 18,
   "id": "e1d9e699-bfbb-4540-9896-9533d8ac3c43",
   "metadata": {},
   "outputs": [],
   "source": [
    "s  = defaultdict(int)\n",
    "for paras in data[\"text\"]:\n",
    "    for para in paras:\n",
    "        if para and any(char.isdigit() for char in para):\n",
    "            s[len([token for token in para.split() if token])] += 1"
   ]
  },
  {
   "cell_type": "code",
   "execution_count": 19,
   "id": "c081892c-e96a-44c5-a6f2-63f650ed39a5",
   "metadata": {},
   "outputs": [
    {
     "data": {
      "text/plain": [
       "88.24400316507149"
      ]
     },
     "execution_count": 19,
     "metadata": {},
     "output_type": "execute_result"
    }
   ],
   "source": [
    "sum(k*v for k,v in s.items())/sum(s.values())"
   ]
  },
  {
   "cell_type": "code",
   "execution_count": 20,
   "id": "dc9e047a-7579-41f6-b90b-09808b7a6230",
   "metadata": {},
   "outputs": [
    {
     "data": {
      "text/plain": [
       "<Axes: >"
      ]
     },
     "execution_count": 20,
     "metadata": {},
     "output_type": "execute_result"
    },
    {
     "data": {
      "image/png": "[encoded data removed]",
      "text/plain": [
       "<Figure size 640x480 with 1 Axes>"
      ]
     },
     "metadata": {},
     "output_type": "display_data"
    }
   ],
   "source": [
    "pd.Series(s).sort_index()[:50].plot.bar()"
   ]
  },
  {
   "cell_type": "code",
   "execution_count": 21,
   "id": "788599b8-f9f8-4fea-bf5c-54c4f0a07bae",
   "metadata": {},
   "outputs": [
    {
     "data": {
      "text/plain": [
       "<Axes: >"
      ]
     },
     "execution_count": 21,
     "metadata": {},
     "output_type": "execute_result"
    },
    {
     "data": {
      "image/png": "[encoded data removed]",
      "text/plain": [
       "<Figure size 640x480 with 1 Axes>"
      ]
     },
     "metadata": {},
     "output_type": "display_data"
    }
   ],
   "source": [
    "pd.Series(s).sort_index()[:50].plot.bar()"
   ]
  },
  {
   "cell_type": "code",
   "execution_count": 22,
   "id": "6c08480d-c0d7-4fa6-902c-26037a67a523",
   "metadata": {},
   "outputs": [
    {
     "data": {
      "text/plain": [
       "tokens_per_para\n",
       "2507.000000    1\n",
       "145.195822     1\n",
       "135.286517     1\n",
       "91.926966      1\n",
       "98.382890      1\n",
       "              ..\n",
       "71.315412      1\n",
       "86.964885      1\n",
       "71.598007      1\n",
       "125.929577     1\n",
       "58.802168      1\n",
       "Name: count, Length: 225, dtype: int64"
      ]
     },
     "execution_count": 22,
     "metadata": {},
     "output_type": "execute_result"
    }
   ],
   "source": [
    "data[\"tokens_per_para\"].value_counts()"
   ]
  },
  {
   "cell_type": "code",
   "execution_count": 23,
   "id": "d3115e27-c261-4edc-880a-b9c8c11fdbd2",
   "metadata": {},
   "outputs": [
    {
     "data": {
      "text/plain": [
       "<Axes: ylabel='Frequency'>"
      ]
     },
     "execution_count": 23,
     "metadata": {},
     "output_type": "execute_result"
    },
    {
     "data": {
      "image/png": "[encoded data removed]",
      "text/plain": [
       "<Figure size 640x480 with 1 Axes>"
      ]
     },
     "metadata": {},
     "output_type": "display_data"
    }
   ],
   "source": [
    "data[\"tokens_per_para\"][1:].plot.hist(bins=100)"
   ]
  },
  {
   "cell_type": "code",
   "execution_count": 24,
   "id": "d558fd52-e4d9-48f3-b49a-daee2150716f",
   "metadata": {},
   "outputs": [
    {
     "data": {
      "text/html": [
       "<div>\n",
       "<style scoped>\n",
       "    .dataframe tbody tr th:only-of-type {\n",
       "        vertical-align: middle;\n",
       "    }\n",
       "\n",
       "    .dataframe tbody tr th {\n",
       "        vertical-align: top;\n",
       "    }\n",
       "\n",
       "    .dataframe thead th {\n",
       "        text-align: right;\n",
       "    }\n",
       "</style>\n",
       "<table border=\"1\" class=\"dataframe\">\n",
       "  <thead>\n",
       "    <tr style=\"text-align: right;\">\n",
       "      <th></th>\n",
       "      <th>title</th>\n",
       "      <th>ebook_no</th>\n",
       "      <th>author</th>\n",
       "      <th>text</th>\n",
       "      <th>para_count</th>\n",
       "      <th>char_count</th>\n",
       "      <th>token_count</th>\n",
       "      <th>chars_per_para</th>\n",
       "      <th>tokens_per_para</th>\n",
       "    </tr>\n",
       "  </thead>\n",
       "  <tbody>\n",
       "    <tr>\n",
       "      <th>129</th>\n",
       "      <td>Manual of References and Exercises in Economic...</td>\n",
       "      <td>41856</td>\n",
       "      <td>Fetter, Frank A. (Frank Albert), 1863-1949</td>\n",
       "      <td>[, , , Produced by Colin M. Kendall, Curtis We...</td>\n",
       "      <td>949</td>\n",
       "      <td>106863</td>\n",
       "      <td>17777</td>\n",
       "      <td>112.605901</td>\n",
       "      <td>18.732350</td>\n",
       "    </tr>\n",
       "    <tr>\n",
       "      <th>133</th>\n",
       "      <td>Nonsense Novels</td>\n",
       "      <td>4682</td>\n",
       "      <td>Leacock, Stephen, 1869-1944</td>\n",
       "      <td>[[Illustration], , , , Nonsense Novels, by Ste...</td>\n",
       "      <td>1212</td>\n",
       "      <td>172382</td>\n",
       "      <td>31703</td>\n",
       "      <td>142.229373</td>\n",
       "      <td>26.157591</td>\n",
       "    </tr>\n",
       "    <tr>\n",
       "      <th>126</th>\n",
       "      <td>The Capgras Shift</td>\n",
       "      <td>24109</td>\n",
       "      <td>Vaknin, Samuel, 1961-</td>\n",
       "      <td>[, , , The Capgras Shift , Sam Vaknin, , /*1. ...</td>\n",
       "      <td>151</td>\n",
       "      <td>23249</td>\n",
       "      <td>4136</td>\n",
       "      <td>153.966887</td>\n",
       "      <td>27.390728</td>\n",
       "    </tr>\n",
       "    <tr>\n",
       "      <th>142</th>\n",
       "      <td>Winsome Winnie and other New Nonsense Novels</td>\n",
       "      <td>20633</td>\n",
       "      <td>Leacock, Stephen, 1869-1944</td>\n",
       "      <td>[, , , Produced by Malcolm Farmer and the Onli...</td>\n",
       "      <td>1370</td>\n",
       "      <td>215624</td>\n",
       "      <td>39154</td>\n",
       "      <td>157.389781</td>\n",
       "      <td>28.579562</td>\n",
       "    </tr>\n",
       "    <tr>\n",
       "      <th>135</th>\n",
       "      <td>Behind the Beyond, and Other Contributions to ...</td>\n",
       "      <td>23449</td>\n",
       "      <td>Leacock, Stephen, 1869-1944</td>\n",
       "      <td>[, E-text prepared by Suzanne Lybarger, Emille...</td>\n",
       "      <td>985</td>\n",
       "      <td>161439</td>\n",
       "      <td>29549</td>\n",
       "      <td>163.897462</td>\n",
       "      <td>29.998985</td>\n",
       "    </tr>\n",
       "    <tr>\n",
       "      <th>...</th>\n",
       "      <td>...</td>\n",
       "      <td>...</td>\n",
       "      <td>...</td>\n",
       "      <td>...</td>\n",
       "      <td>...</td>\n",
       "      <td>...</td>\n",
       "      <td>...</td>\n",
       "      <td>...</td>\n",
       "      <td>...</td>\n",
       "    </tr>\n",
       "    <tr>\n",
       "      <th>21</th>\n",
       "      <td>On Liberty</td>\n",
       "      <td>34901</td>\n",
       "      <td>Mill, John Stuart, 1806-1873</td>\n",
       "      <td>[, , , Produced by Curtis Weyant, Martin Petti...</td>\n",
       "      <td>187</td>\n",
       "      <td>306104</td>\n",
       "      <td>52054</td>\n",
       "      <td>1636.919786</td>\n",
       "      <td>278.363636</td>\n",
       "    </tr>\n",
       "    <tr>\n",
       "      <th>30</th>\n",
       "      <td>Auguste Comte and Positivism</td>\n",
       "      <td>16833</td>\n",
       "      <td>Mill, John Stuart, 1806-1873</td>\n",
       "      <td>[, , , Produced by Marc D'Hooghe, , , , AUGUST...</td>\n",
       "      <td>179</td>\n",
       "      <td>316553</td>\n",
       "      <td>52683</td>\n",
       "      <td>1768.452514</td>\n",
       "      <td>294.318436</td>\n",
       "    </tr>\n",
       "    <tr>\n",
       "      <th>25</th>\n",
       "      <td>Autobiography</td>\n",
       "      <td>10378</td>\n",
       "      <td>Mill, John Stuart, 1806-1873</td>\n",
       "      <td>[, , , Produced by Marc D'Hooghe., , , , [Tran...</td>\n",
       "      <td>223</td>\n",
       "      <td>437669</td>\n",
       "      <td>75208</td>\n",
       "      <td>1962.641256</td>\n",
       "      <td>337.255605</td>\n",
       "    </tr>\n",
       "    <tr>\n",
       "      <th>24</th>\n",
       "      <td>The Subjection of Women</td>\n",
       "      <td>27083</td>\n",
       "      <td>Mill, John Stuart, 1806-1873</td>\n",
       "      <td>[, , , Produced by Michael Roe and the Online ...</td>\n",
       "      <td>104</td>\n",
       "      <td>254350</td>\n",
       "      <td>44045</td>\n",
       "      <td>2445.673077</td>\n",
       "      <td>423.509615</td>\n",
       "    </tr>\n",
       "    <tr>\n",
       "      <th>0</th>\n",
       "      <td>An Inquiry into the Nature and Causes of the W...</td>\n",
       "      <td>3300</td>\n",
       "      <td>Smith, Adam, 1723-1790</td>\n",
       "      <td>[, , , An Inquiry into the Nature and Causes o...</td>\n",
       "      <td>152</td>\n",
       "      <td>2220794</td>\n",
       "      <td>381064</td>\n",
       "      <td>14610.486842</td>\n",
       "      <td>2507.000000</td>\n",
       "    </tr>\n",
       "  </tbody>\n",
       "</table>\n",
       "<p>225 rows × 9 columns</p>\n",
       "</div>"
      ],
      "text/plain": [
       "                                                 title  ebook_no  \\\n",
       "129  Manual of References and Exercises in Economic...     41856   \n",
       "133                                    Nonsense Novels      4682   \n",
       "126                                  The Capgras Shift     24109   \n",
       "142       Winsome Winnie and other New Nonsense Novels     20633   \n",
       "135  Behind the Beyond, and Other Contributions to ...     23449   \n",
       "..                                                 ...       ...   \n",
       "21                                          On Liberty     34901   \n",
       "30                        Auguste Comte and Positivism     16833   \n",
       "25                                       Autobiography     10378   \n",
       "24                             The Subjection of Women     27083   \n",
       "0    An Inquiry into the Nature and Causes of the W...      3300   \n",
       "\n",
       "                                         author  \\\n",
       "129  Fetter, Frank A. (Frank Albert), 1863-1949   \n",
       "133                 Leacock, Stephen, 1869-1944   \n",
       "126                       Vaknin, Samuel, 1961-   \n",
       "142                 Leacock, Stephen, 1869-1944   \n",
       "135                 Leacock, Stephen, 1869-1944   \n",
       "..                                          ...   \n",
       "21                 Mill, John Stuart, 1806-1873   \n",
       "30                 Mill, John Stuart, 1806-1873   \n",
       "25                 Mill, John Stuart, 1806-1873   \n",
       "24                 Mill, John Stuart, 1806-1873   \n",
       "0                        Smith, Adam, 1723-1790   \n",
       "\n",
       "                                                  text  para_count  \\\n",
       "129  [, , , Produced by Colin M. Kendall, Curtis We...         949   \n",
       "133  [[Illustration], , , , Nonsense Novels, by Ste...        1212   \n",
       "126  [, , , The Capgras Shift , Sam Vaknin, , /*1. ...         151   \n",
       "142  [, , , Produced by Malcolm Farmer and the Onli...        1370   \n",
       "135  [, E-text prepared by Suzanne Lybarger, Emille...         985   \n",
       "..                                                 ...         ...   \n",
       "21   [, , , Produced by Curtis Weyant, Martin Petti...         187   \n",
       "30   [, , , Produced by Marc D'Hooghe, , , , AUGUST...         179   \n",
       "25   [, , , Produced by Marc D'Hooghe., , , , [Tran...         223   \n",
       "24   [, , , Produced by Michael Roe and the Online ...         104   \n",
       "0    [, , , An Inquiry into the Nature and Causes o...         152   \n",
       "\n",
       "     char_count  token_count  chars_per_para  tokens_per_para  \n",
       "129      106863        17777      112.605901        18.732350  \n",
       "133      172382        31703      142.229373        26.157591  \n",
       "126       23249         4136      153.966887        27.390728  \n",
       "142      215624        39154      157.389781        28.579562  \n",
       "135      161439        29549      163.897462        29.998985  \n",
       "..          ...          ...             ...              ...  \n",
       "21       306104        52054     1636.919786       278.363636  \n",
       "30       316553        52683     1768.452514       294.318436  \n",
       "25       437669        75208     1962.641256       337.255605  \n",
       "24       254350        44045     2445.673077       423.509615  \n",
       "0       2220794       381064    14610.486842      2507.000000  \n",
       "\n",
       "[225 rows x 9 columns]"
      ]
     },
     "execution_count": 24,
     "metadata": {},
     "output_type": "execute_result"
    }
   ],
   "source": [
    "data.sort_values(\"chars_per_para\")"
   ]
  },
  {
   "cell_type": "code",
   "execution_count": 25,
   "id": "ea61923c-d3e6-4b67-825a-9e379454b643",
   "metadata": {},
   "outputs": [
    {
     "data": {
      "text/plain": [
       "0      [, , , An Inquiry into the Nature and Causes o...\n",
       "1      [, , , , , THE THEORY OF MORAL SENTIMENTS; OR,...\n",
       "2      [, , , Produced by Ed Brandon from material at...\n",
       "3      [, E-text prepared by Marc D'Hooghe (http://ww...\n",
       "4      [, , , , A Discourse Upon The Origin And The F...\n",
       "                             ...                        \n",
       "220    [, , , , The Rural Science Series, Edited by L...\n",
       "221    [, , , Produced by John Hagerson, Jonathan Ing...\n",
       "222    [, , , Produced by Donald Cummings, Adrian Mas...\n",
       "223    [, , , Produced by G. Graustein and PG Distrib...\n",
       "224    [, , , Produced by Bryan Ness and the Online D...\n",
       "Name: text, Length: 225, dtype: object"
      ]
     },
     "execution_count": 25,
     "metadata": {},
     "output_type": "execute_result"
    }
   ],
   "source": [
    "data[\"text\"]"
   ]
  },
  {
   "cell_type": "code",
   "execution_count": 26,
   "id": "cbdb10ab-cfc5-4c6a-9ba1-0d9acb4b33f7",
   "metadata": {},
   "outputs": [
    {
     "data": {
      "text/plain": [
       "<Axes: ylabel='Frequency'>"
      ]
     },
     "execution_count": 26,
     "metadata": {},
     "output_type": "execute_result"
    },
    {
     "data": {
      "image/png": "[encoded data removed]",
      "text/plain": [
       "<Figure size 640x480 with 1 Axes>"
      ]
     },
     "metadata": {},
     "output_type": "display_data"
    }
   ],
   "source": [
    "(data[\"char_count\"] / data[\"token_count\"]).plot.hist()"
   ]
  },
  {
   "cell_type": "code",
   "execution_count": 27,
   "id": "e229c600-2ffe-43c3-9d06-f96b29feacfd",
   "metadata": {},
   "outputs": [
    {
     "data": {
      "text/plain": [
       "<Axes: ylabel='Frequency'>"
      ]
     },
     "execution_count": 27,
     "metadata": {},
     "output_type": "execute_result"
    },
    {
     "data": {
      "image/png": "[encoded data removed]",
      "text/plain": [
       "<Figure size 640x480 with 1 Axes>"
      ]
     },
     "metadata": {},
     "output_type": "display_data"
    }
   ],
   "source": [
    "data[data[\"char_count\"] > 500][\"char_count\"].plot.hist(bins=100)"
   ]
  },
  {
   "cell_type": "code",
   "execution_count": 28,
   "id": "c240c8a7-5db8-4303-a810-6c173fef4948",
   "metadata": {},
   "outputs": [
    {
     "data": {
      "text/plain": [
       "(16083.604, 66491.9]      14\n",
       "(66491.9, 114499.8]       17\n",
       "(114499.8, 162507.7]      22\n",
       "(162507.7, 210515.6]      16\n",
       "(210515.6, 258523.5]      13\n",
       "(258523.5, 306531.4]      17\n",
       "(306531.4, 354539.3]      15\n",
       "(354539.3, 402547.2]       8\n",
       "(402547.2, 450555.1]      11\n",
       "(450555.1, 498563.0]       6\n",
       "(498563.0, 546570.9]      10\n",
       "(546570.9, 594578.8]       6\n",
       "(594578.8, 642586.7]       6\n",
       "(642586.7, 690594.6]       6\n",
       "(690594.6, 738602.5]       5\n",
       "(738602.5, 786610.4]       4\n",
       "(786610.4, 834618.3]       2\n",
       "(834618.3, 882626.2]       5\n",
       "(882626.2, 930634.1]       3\n",
       "(930634.1, 978642.0]       7\n",
       "(978642.0, 1026649.9]      1\n",
       "(1026649.9, 1074657.8]     3\n",
       "(1074657.8, 1122665.7]     1\n",
       "(1122665.7, 1170673.6]     7\n",
       "(1170673.6, 1218681.5]     3\n",
       "(1218681.5, 1266689.4]     0\n",
       "(1266689.4, 1314697.3]     1\n",
       "(1314697.3, 1362705.2]     3\n",
       "(1362705.2, 1410713.1]     4\n",
       "(1410713.1, 1458721.0]     3\n",
       "(1458721.0, 1506728.9]     0\n",
       "(1506728.9, 1554736.8]     2\n",
       "(1554736.8, 1602744.7]     0\n",
       "(1602744.7, 1650752.6]     0\n",
       "(1650752.6, 1698760.5]     1\n",
       "(1698760.5, 1746768.4]     0\n",
       "(1746768.4, 1794776.3]     1\n",
       "(1794776.3, 1842784.2]     0\n",
       "(1842784.2, 1890792.1]     0\n",
       "(1890792.1, 1938800.0]     0\n",
       "(1938800.0, 1986807.9]     0\n",
       "(1986807.9, 2034815.8]     0\n",
       "(2034815.8, 2082823.7]     0\n",
       "(2082823.7, 2130831.6]     0\n",
       "(2130831.6, 2178839.5]     0\n",
       "(2178839.5, 2226847.4]     1\n",
       "(2226847.4, 2274855.3]     0\n",
       "(2274855.3, 2322863.2]     0\n",
       "(2322863.2, 2370871.1]     0\n",
       "(2370871.1, 2418879.0]     1\n",
       "Name: count, dtype: int64"
      ]
     },
     "execution_count": 28,
     "metadata": {},
     "output_type": "execute_result"
    }
   ],
   "source": [
    "data[data[\"char_count\"] > 500][\"char_count\"].value_counts(bins=50).sort_index()"
   ]
  },
  {
   "cell_type": "code",
   "execution_count": 29,
   "id": "89553d9f-65bd-41c7-9610-1df5a6cd6a0c",
   "metadata": {},
   "outputs": [
    {
     "data": {
      "text/html": [
       "<div>\n",
       "<style scoped>\n",
       "    .dataframe tbody tr th:only-of-type {\n",
       "        vertical-align: middle;\n",
       "    }\n",
       "\n",
       "    .dataframe tbody tr th {\n",
       "        vertical-align: top;\n",
       "    }\n",
       "\n",
       "    .dataframe thead th {\n",
       "        text-align: right;\n",
       "    }\n",
       "</style>\n",
       "<table border=\"1\" class=\"dataframe\">\n",
       "  <thead>\n",
       "    <tr style=\"text-align: right;\">\n",
       "      <th></th>\n",
       "      <th>title</th>\n",
       "      <th>ebook_no</th>\n",
       "      <th>author</th>\n",
       "      <th>text</th>\n",
       "      <th>para_count</th>\n",
       "      <th>char_count</th>\n",
       "      <th>token_count</th>\n",
       "      <th>chars_per_para</th>\n",
       "      <th>tokens_per_para</th>\n",
       "    </tr>\n",
       "  </thead>\n",
       "  <tbody>\n",
       "    <tr>\n",
       "      <th>96</th>\n",
       "      <td>Saint Ursula: I. The Story of St. Ursula. II. ...</td>\n",
       "      <td>30173</td>\n",
       "      <td>Ruskin, John, 1819-1900</td>\n",
       "      <td>[, , , Produced by Stephen Hope, Joseph Cooper...</td>\n",
       "      <td>71</td>\n",
       "      <td>18484</td>\n",
       "      <td>3457</td>\n",
       "      <td>260.338028</td>\n",
       "      <td>48.690141</td>\n",
       "    </tr>\n",
       "    <tr>\n",
       "      <th>126</th>\n",
       "      <td>The Capgras Shift</td>\n",
       "      <td>24109</td>\n",
       "      <td>Vaknin, Samuel, 1961-</td>\n",
       "      <td>[, , , The Capgras Shift , Sam Vaknin, , /*1. ...</td>\n",
       "      <td>151</td>\n",
       "      <td>23249</td>\n",
       "      <td>4136</td>\n",
       "      <td>153.966887</td>\n",
       "      <td>27.390728</td>\n",
       "    </tr>\n",
       "    <tr>\n",
       "      <th>185</th>\n",
       "      <td>Social Justice Without Socialism</td>\n",
       "      <td>29393</td>\n",
       "      <td>Clark, John Bates, 1847-1938</td>\n",
       "      <td>[, , , Produced by The Online Distributed Proo...</td>\n",
       "      <td>60</td>\n",
       "      <td>34938</td>\n",
       "      <td>6188</td>\n",
       "      <td>582.300000</td>\n",
       "      <td>103.133333</td>\n",
       "    </tr>\n",
       "    <tr>\n",
       "      <th>203</th>\n",
       "      <td>The place of anarchism in socialistic evolutio...</td>\n",
       "      <td>31104</td>\n",
       "      <td>Kropotkin, Petr Alekseevich, kniaz, 1842-1921</td>\n",
       "      <td>[, , , Produced by Fritz Ohrenschall, Stephani...</td>\n",
       "      <td>57</td>\n",
       "      <td>37434</td>\n",
       "      <td>6412</td>\n",
       "      <td>656.736842</td>\n",
       "      <td>112.491228</td>\n",
       "    </tr>\n",
       "    <tr>\n",
       "      <th>116</th>\n",
       "      <td>Index of the Project Gutenberg Works of Bertra...</td>\n",
       "      <td>59391</td>\n",
       "      <td>Russell, Bertrand, 1872-1970</td>\n",
       "      <td>[, , , Produced by David Widger, , , , , , , ,...</td>\n",
       "      <td>36</td>\n",
       "      <td>40815</td>\n",
       "      <td>6648</td>\n",
       "      <td>1133.750000</td>\n",
       "      <td>184.666667</td>\n",
       "    </tr>\n",
       "    <tr>\n",
       "      <th>...</th>\n",
       "      <td>...</td>\n",
       "      <td>...</td>\n",
       "      <td>...</td>\n",
       "      <td>...</td>\n",
       "      <td>...</td>\n",
       "      <td>...</td>\n",
       "      <td>...</td>\n",
       "      <td>...</td>\n",
       "      <td>...</td>\n",
       "    </tr>\n",
       "    <tr>\n",
       "      <th>29</th>\n",
       "      <td>Analysis of the Phenomena of the Human Mind</td>\n",
       "      <td>56441</td>\n",
       "      <td>Mill, James, 1773-1836</td>\n",
       "      <td>[, , , Produced by Ed Brandon, , , , , , , , A...</td>\n",
       "      <td>2590</td>\n",
       "      <td>1538659</td>\n",
       "      <td>264366</td>\n",
       "      <td>594.076834</td>\n",
       "      <td>102.071815</td>\n",
       "    </tr>\n",
       "    <tr>\n",
       "      <th>190</th>\n",
       "      <td>FolkwaysA Study of the Sociological Importance...</td>\n",
       "      <td>24253</td>\n",
       "      <td>Sumner, William Graham, 1840-1910</td>\n",
       "      <td>[, E-text prepared by Mark C. Orton, Turgut Di...</td>\n",
       "      <td>5194</td>\n",
       "      <td>1657485</td>\n",
       "      <td>277419</td>\n",
       "      <td>319.115325</td>\n",
       "      <td>53.411436</td>\n",
       "    </tr>\n",
       "    <tr>\n",
       "      <th>60</th>\n",
       "      <td>The Crown of Wild Olivealso Munera Pulveris; P...</td>\n",
       "      <td>26716</td>\n",
       "      <td>Ruskin, John, 1819-1900</td>\n",
       "      <td>[, E-text prepared by Barbara Tozier, Bill Toz...</td>\n",
       "      <td>3594</td>\n",
       "      <td>1763157</td>\n",
       "      <td>312359</td>\n",
       "      <td>490.583472</td>\n",
       "      <td>86.911241</td>\n",
       "    </tr>\n",
       "    <tr>\n",
       "      <th>0</th>\n",
       "      <td>An Inquiry into the Nature and Causes of the W...</td>\n",
       "      <td>3300</td>\n",
       "      <td>Smith, Adam, 1723-1790</td>\n",
       "      <td>[, , , An Inquiry into the Nature and Causes o...</td>\n",
       "      <td>152</td>\n",
       "      <td>2220794</td>\n",
       "      <td>381064</td>\n",
       "      <td>14610.486842</td>\n",
       "      <td>2507.000000</td>\n",
       "    </tr>\n",
       "    <tr>\n",
       "      <th>26</th>\n",
       "      <td>A System of Logic, Ratiocinative and Inductive</td>\n",
       "      <td>27942</td>\n",
       "      <td>Mill, John Stuart, 1806-1873</td>\n",
       "      <td>[, , , , A SYSTEM OF LOGIC,, RATIOCINATIVE AND...</td>\n",
       "      <td>2502</td>\n",
       "      <td>2418879</td>\n",
       "      <td>410426</td>\n",
       "      <td>966.778177</td>\n",
       "      <td>164.039169</td>\n",
       "    </tr>\n",
       "  </tbody>\n",
       "</table>\n",
       "<p>225 rows × 9 columns</p>\n",
       "</div>"
      ],
      "text/plain": [
       "                                                 title  ebook_no  \\\n",
       "96   Saint Ursula: I. The Story of St. Ursula. II. ...     30173   \n",
       "126                                  The Capgras Shift     24109   \n",
       "185                   Social Justice Without Socialism     29393   \n",
       "203  The place of anarchism in socialistic evolutio...     31104   \n",
       "116  Index of the Project Gutenberg Works of Bertra...     59391   \n",
       "..                                                 ...       ...   \n",
       "29         Analysis of the Phenomena of the Human Mind     56441   \n",
       "190  FolkwaysA Study of the Sociological Importance...     24253   \n",
       "60   The Crown of Wild Olivealso Munera Pulveris; P...     26716   \n",
       "0    An Inquiry into the Nature and Causes of the W...      3300   \n",
       "26      A System of Logic, Ratiocinative and Inductive     27942   \n",
       "\n",
       "                                            author  \\\n",
       "96                         Ruskin, John, 1819-1900   \n",
       "126                          Vaknin, Samuel, 1961-   \n",
       "185                   Clark, John Bates, 1847-1938   \n",
       "203  Kropotkin, Petr Alekseevich, kniaz, 1842-1921   \n",
       "116                   Russell, Bertrand, 1872-1970   \n",
       "..                                             ...   \n",
       "29                          Mill, James, 1773-1836   \n",
       "190              Sumner, William Graham, 1840-1910   \n",
       "60                         Ruskin, John, 1819-1900   \n",
       "0                           Smith, Adam, 1723-1790   \n",
       "26                    Mill, John Stuart, 1806-1873   \n",
       "\n",
       "                                                  text  para_count  \\\n",
       "96   [, , , Produced by Stephen Hope, Joseph Cooper...          71   \n",
       "126  [, , , The Capgras Shift , Sam Vaknin, , /*1. ...         151   \n",
       "185  [, , , Produced by The Online Distributed Proo...          60   \n",
       "203  [, , , Produced by Fritz Ohrenschall, Stephani...          57   \n",
       "116  [, , , Produced by David Widger, , , , , , , ,...          36   \n",
       "..                                                 ...         ...   \n",
       "29   [, , , Produced by Ed Brandon, , , , , , , , A...        2590   \n",
       "190  [, E-text prepared by Mark C. Orton, Turgut Di...        5194   \n",
       "60   [, E-text prepared by Barbara Tozier, Bill Toz...        3594   \n",
       "0    [, , , An Inquiry into the Nature and Causes o...         152   \n",
       "26   [, , , , A SYSTEM OF LOGIC,, RATIOCINATIVE AND...        2502   \n",
       "\n",
       "     char_count  token_count  chars_per_para  tokens_per_para  \n",
       "96        18484         3457      260.338028        48.690141  \n",
       "126       23249         4136      153.966887        27.390728  \n",
       "185       34938         6188      582.300000       103.133333  \n",
       "203       37434         6412      656.736842       112.491228  \n",
       "116       40815         6648     1133.750000       184.666667  \n",
       "..          ...          ...             ...              ...  \n",
       "29      1538659       264366      594.076834       102.071815  \n",
       "190     1657485       277419      319.115325        53.411436  \n",
       "60      1763157       312359      490.583472        86.911241  \n",
       "0       2220794       381064    14610.486842      2507.000000  \n",
       "26      2418879       410426      966.778177       164.039169  \n",
       "\n",
       "[225 rows x 9 columns]"
      ]
     },
     "execution_count": 29,
     "metadata": {},
     "output_type": "execute_result"
    }
   ],
   "source": [
    "data[data[\"char_count\"] > 500].sort_values(\"char_count\")"
   ]
  },
  {
   "cell_type": "code",
   "execution_count": 30,
   "id": "4cc77e98-7f5f-446a-9ad8-d6256b1dd786",
   "metadata": {},
   "outputs": [
    {
     "ename": "KeyError",
     "evalue": "'raw_text'",
     "output_type": "error",
     "traceback": [
      "\u001b[0;31m---------------------------------------------------------------------------\u001b[0m",
      "\u001b[0;31mKeyError\u001b[0m                                  Traceback (most recent call last)",
      "File \u001b[0;32m~/nlp-gutenberg/.venv/lib/python3.10/site-packages/pandas/core/indexes/base.py:3790\u001b[0m, in \u001b[0;36mIndex.get_loc\u001b[0;34m(self, key)\u001b[0m\n\u001b[1;32m   3789\u001b[0m \u001b[38;5;28;01mtry\u001b[39;00m:\n\u001b[0;32m-> 3790\u001b[0m     \u001b[38;5;28;01mreturn\u001b[39;00m \u001b[38;5;28;43mself\u001b[39;49m\u001b[38;5;241;43m.\u001b[39;49m\u001b[43m_engine\u001b[49m\u001b[38;5;241;43m.\u001b[39;49m\u001b[43mget_loc\u001b[49m\u001b[43m(\u001b[49m\u001b[43mcasted_key\u001b[49m\u001b[43m)\u001b[49m\n\u001b[1;32m   3791\u001b[0m \u001b[38;5;28;01mexcept\u001b[39;00m \u001b[38;5;167;01mKeyError\u001b[39;00m \u001b[38;5;28;01mas\u001b[39;00m err:\n",
      "File \u001b[0;32mindex.pyx:152\u001b[0m, in \u001b[0;36mpandas._libs.index.IndexEngine.get_loc\u001b[0;34m()\u001b[0m\n",
      "File \u001b[0;32mindex.pyx:181\u001b[0m, in \u001b[0;36mpandas._libs.index.IndexEngine.get_loc\u001b[0;34m()\u001b[0m\n",
      "File \u001b[0;32mpandas/_libs/hashtable_class_helper.pxi:7080\u001b[0m, in \u001b[0;36mpandas._libs.hashtable.PyObjectHashTable.get_item\u001b[0;34m()\u001b[0m\n",
      "File \u001b[0;32mpandas/_libs/hashtable_class_helper.pxi:7088\u001b[0m, in \u001b[0;36mpandas._libs.hashtable.PyObjectHashTable.get_item\u001b[0;34m()\u001b[0m\n",
      "\u001b[0;31mKeyError\u001b[0m: 'raw_text'",
      "\nThe above exception was the direct cause of the following exception:\n",
      "\u001b[0;31mKeyError\u001b[0m                                  Traceback (most recent call last)",
      "Cell \u001b[0;32mIn[30], line 1\u001b[0m\n\u001b[0;32m----> 1\u001b[0m \u001b[43mdata\u001b[49m\u001b[43m[\u001b[49m\u001b[38;5;124;43m\"\u001b[39;49m\u001b[38;5;124;43mraw_text\u001b[39;49m\u001b[38;5;124;43m\"\u001b[39;49m\u001b[43m]\u001b[49m\n",
      "File \u001b[0;32m~/nlp-gutenberg/.venv/lib/python3.10/site-packages/pandas/core/frame.py:3893\u001b[0m, in \u001b[0;36mDataFrame.__getitem__\u001b[0;34m(self, key)\u001b[0m\n\u001b[1;32m   3891\u001b[0m \u001b[38;5;28;01mif\u001b[39;00m \u001b[38;5;28mself\u001b[39m\u001b[38;5;241m.\u001b[39mcolumns\u001b[38;5;241m.\u001b[39mnlevels \u001b[38;5;241m>\u001b[39m \u001b[38;5;241m1\u001b[39m:\n\u001b[1;32m   3892\u001b[0m     \u001b[38;5;28;01mreturn\u001b[39;00m \u001b[38;5;28mself\u001b[39m\u001b[38;5;241m.\u001b[39m_getitem_multilevel(key)\n\u001b[0;32m-> 3893\u001b[0m indexer \u001b[38;5;241m=\u001b[39m \u001b[38;5;28;43mself\u001b[39;49m\u001b[38;5;241;43m.\u001b[39;49m\u001b[43mcolumns\u001b[49m\u001b[38;5;241;43m.\u001b[39;49m\u001b[43mget_loc\u001b[49m\u001b[43m(\u001b[49m\u001b[43mkey\u001b[49m\u001b[43m)\u001b[49m\n\u001b[1;32m   3894\u001b[0m \u001b[38;5;28;01mif\u001b[39;00m is_integer(indexer):\n\u001b[1;32m   3895\u001b[0m     indexer \u001b[38;5;241m=\u001b[39m [indexer]\n",
      "File \u001b[0;32m~/nlp-gutenberg/.venv/lib/python3.10/site-packages/pandas/core/indexes/base.py:3797\u001b[0m, in \u001b[0;36mIndex.get_loc\u001b[0;34m(self, key)\u001b[0m\n\u001b[1;32m   3792\u001b[0m     \u001b[38;5;28;01mif\u001b[39;00m \u001b[38;5;28misinstance\u001b[39m(casted_key, \u001b[38;5;28mslice\u001b[39m) \u001b[38;5;129;01mor\u001b[39;00m (\n\u001b[1;32m   3793\u001b[0m         \u001b[38;5;28misinstance\u001b[39m(casted_key, abc\u001b[38;5;241m.\u001b[39mIterable)\n\u001b[1;32m   3794\u001b[0m         \u001b[38;5;129;01mand\u001b[39;00m \u001b[38;5;28many\u001b[39m(\u001b[38;5;28misinstance\u001b[39m(x, \u001b[38;5;28mslice\u001b[39m) \u001b[38;5;28;01mfor\u001b[39;00m x \u001b[38;5;129;01min\u001b[39;00m casted_key)\n\u001b[1;32m   3795\u001b[0m     ):\n\u001b[1;32m   3796\u001b[0m         \u001b[38;5;28;01mraise\u001b[39;00m InvalidIndexError(key)\n\u001b[0;32m-> 3797\u001b[0m     \u001b[38;5;28;01mraise\u001b[39;00m \u001b[38;5;167;01mKeyError\u001b[39;00m(key) \u001b[38;5;28;01mfrom\u001b[39;00m \u001b[38;5;21;01merr\u001b[39;00m\n\u001b[1;32m   3798\u001b[0m \u001b[38;5;28;01mexcept\u001b[39;00m \u001b[38;5;167;01mTypeError\u001b[39;00m:\n\u001b[1;32m   3799\u001b[0m     \u001b[38;5;66;03m# If we have a listlike key, _check_indexing_error will raise\u001b[39;00m\n\u001b[1;32m   3800\u001b[0m     \u001b[38;5;66;03m#  InvalidIndexError. Otherwise we fall through and re-raise\u001b[39;00m\n\u001b[1;32m   3801\u001b[0m     \u001b[38;5;66;03m#  the TypeError.\u001b[39;00m\n\u001b[1;32m   3802\u001b[0m     \u001b[38;5;28mself\u001b[39m\u001b[38;5;241m.\u001b[39m_check_indexing_error(key)\n",
      "\u001b[0;31mKeyError\u001b[0m: 'raw_text'"
     ]
    }
   ],
   "source": [
    "data[\"raw_text\"]"
   ]
  },
  {
   "cell_type": "code",
   "execution_count": null,
   "id": "28464e4d-a83c-4b84-a021-df93c7beb557",
   "metadata": {},
   "outputs": [],
   "source": [
    "with open(\"data.json\") as f:\n",
    "    data = json.load(f)"
   ]
  }
 ],
 "metadata": {
  "kernelspec": {
   "display_name": "Python 3 (ipykernel)",
   "language": "python",
   "name": "python3"
  },
  "language_info": {
   "codemirror_mode": {
    "name": "ipython",
    "version": 3
   },
   "file_extension": ".py",
   "mimetype": "text/x-python",
   "name": "python",
   "nbconvert_exporter": "python",
   "pygments_lexer": "ipython3",
   "version": "3.10.12"
  }
 },
 "nbformat": 4,
 "nbformat_minor": 5
}
